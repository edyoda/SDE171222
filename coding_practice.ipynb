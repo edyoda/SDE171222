{
 "cells": [
  {
   "cell_type": "markdown",
   "id": "c2dee916",
   "metadata": {},
   "source": [
    "# Check if string is Palindrome"
   ]
  },
  {
   "cell_type": "markdown",
   "id": "2f182331",
   "metadata": {},
   "source": [
    "SALT----> TLAS          : not palindrome\n",
    "    \n",
    "MALAYALAM----->MALAYALAM  : palindrome\n",
    "\n",
    "AMMA------>AMMA            : palindrome"
   ]
  },
  {
   "cell_type": "markdown",
   "id": "1c6fe365",
   "metadata": {},
   "source": [
    "a string is said to be palindrome if the reverse of the string is the same as the string"
   ]
  },
  {
   "cell_type": "code",
   "execution_count": 6,
   "id": "51cacc42",
   "metadata": {},
   "outputs": [
    {
     "data": {
      "text/plain": [
       "True"
      ]
     },
     "execution_count": 6,
     "metadata": {},
     "output_type": "execute_result"
    }
   ],
   "source": [
    "def is_palindrome(s):\n",
    "    return s[::-1] == s\n",
    "\n",
    "is_palindrome(\"amma\")"
   ]
  },
  {
   "cell_type": "code",
   "execution_count": 7,
   "id": "438459d8",
   "metadata": {},
   "outputs": [
    {
     "data": {
      "text/plain": [
       "True"
      ]
     },
     "execution_count": 7,
     "metadata": {},
     "output_type": "execute_result"
    }
   ],
   "source": [
    "def is_palindrome(s):\n",
    "    return s[::-1] == s\n",
    "\n",
    "is_palindrome(\"malayalam\")"
   ]
  },
  {
   "cell_type": "code",
   "execution_count": 8,
   "id": "2e99c3a9",
   "metadata": {},
   "outputs": [
    {
     "data": {
      "text/plain": [
       "False"
      ]
     },
     "execution_count": 8,
     "metadata": {},
     "output_type": "execute_result"
    }
   ],
   "source": [
    "def is_palindrome(s):\n",
    "    return s[::-1] == s\n",
    "\n",
    "is_palindrome(\"salt\")"
   ]
  },
  {
   "cell_type": "code",
   "execution_count": 14,
   "id": "a7136213",
   "metadata": {},
   "outputs": [
    {
     "name": "stdout",
     "output_type": "stream",
     "text": [
      "None\n"
     ]
    }
   ],
   "source": [
    "def add_two_numbers(x,y):\n",
    "    z = x + y\n",
    "\n",
    "\n",
    "x = add_two_numbers(5,10)\n",
    "print(x)"
   ]
  },
  {
   "cell_type": "code",
   "execution_count": 16,
   "id": "9422f28d",
   "metadata": {},
   "outputs": [
    {
     "name": "stdout",
     "output_type": "stream",
     "text": [
      "15\n",
      "15\n"
     ]
    }
   ],
   "source": [
    "def add_two_numbers(x,y):\n",
    "    z = x + y\n",
    "    print(z)\n",
    "    return z\n",
    "\n",
    "\n",
    "x = add_two_numbers(5,10)\n",
    "print(x)"
   ]
  },
  {
   "cell_type": "code",
   "execution_count": 9,
   "id": "3a2db9f0",
   "metadata": {},
   "outputs": [
    {
     "data": {
      "text/plain": [
       "'tlas'"
      ]
     },
     "execution_count": 9,
     "metadata": {},
     "output_type": "execute_result"
    }
   ],
   "source": [
    "# how to reverse a string\n",
    "s = \"salt\"\n",
    "s[::-1]"
   ]
  },
  {
   "cell_type": "code",
   "execution_count": 10,
   "id": "af0f18e1",
   "metadata": {},
   "outputs": [
    {
     "data": {
      "text/plain": [
       "False"
      ]
     },
     "execution_count": 10,
     "metadata": {},
     "output_type": "execute_result"
    }
   ],
   "source": [
    "# to compare equality between operands\n",
    "4==5"
   ]
  },
  {
   "cell_type": "code",
   "execution_count": 5,
   "id": "a9f74f3d",
   "metadata": {},
   "outputs": [
    {
     "data": {
      "text/plain": [
       "True"
      ]
     },
     "execution_count": 5,
     "metadata": {},
     "output_type": "execute_result"
    }
   ],
   "source": [
    "4==4"
   ]
  },
  {
   "cell_type": "markdown",
   "id": "8da3d7b3",
   "metadata": {},
   "source": [
    "# Find largest element in array"
   ]
  },
  {
   "cell_type": "code",
   "execution_count": 17,
   "id": "f6e4a40b",
   "metadata": {},
   "outputs": [],
   "source": [
    "# array: collection of elements with same datatype"
   ]
  },
  {
   "cell_type": "markdown",
   "id": "62c52fcf",
   "metadata": {},
   "source": [
    "input arr = [20, 10, 4, 100]"
   ]
  },
  {
   "cell_type": "markdown",
   "id": "b39f616a",
   "metadata": {},
   "source": [
    " [20, 10, 4, 100]\n",
    " \n",
    "max = 20\n",
    "\n",
    "20 > 10\n",
    "\n",
    "20 >  4\n",
    "\n",
    "20 < 100   max = 100"
   ]
  },
  {
   "cell_type": "markdown",
   "id": "d2eb8776",
   "metadata": {},
   "source": [
    "[2, 20, 4, 100]\n",
    "\n",
    "max = 2\n",
    "\n",
    "2 < 20    max = 20\n",
    "\n",
    "20 >  4\n",
    "\n",
    "20  < 100   max = 100\n"
   ]
  },
  {
   "cell_type": "code",
   "execution_count": 23,
   "id": "0c1860f6",
   "metadata": {},
   "outputs": [
    {
     "data": {
      "text/plain": [
       "100"
      ]
     },
     "execution_count": 23,
     "metadata": {},
     "output_type": "execute_result"
    }
   ],
   "source": [
    "#NOTE: last element of the array is always at index: len(array)-1\n",
    "\n",
    "def largest_element(arr):\n",
    "    max = arr[0]\n",
    "    \n",
    "    #NOTE: range(1,n) it runs from 1 to n-1\n",
    "    for i in range(1, len(arr)):              #range(1,4): 1 to 3\n",
    "        if arr[i] > max:\n",
    "            max = arr[i]\n",
    "    return max\n",
    "\n",
    "largest_element([2, 20, 4, 100])"
   ]
  },
  {
   "cell_type": "code",
   "execution_count": 22,
   "id": "ef2f50d2",
   "metadata": {},
   "outputs": [
    {
     "name": "stdout",
     "output_type": "stream",
     "text": [
      "2\n",
      "3\n",
      "4\n",
      "5\n"
     ]
    }
   ],
   "source": [
    "for i in range(2, 6):\n",
    "    print(i)"
   ]
  },
  {
   "cell_type": "code",
   "execution_count": null,
   "id": "d2334623",
   "metadata": {},
   "outputs": [],
   "source": [
    "s = \"python\"\n",
    "slice(2, 4)"
   ]
  },
  {
   "cell_type": "code",
   "execution_count": 26,
   "id": "bee59f39",
   "metadata": {},
   "outputs": [
    {
     "name": "stdout",
     "output_type": "stream",
     "text": [
      "100\n",
      "200\n",
      "300\n",
      "400\n",
      "500\n",
      "600\n"
     ]
    }
   ],
   "source": [
    "arr = [100, 200, 300, 400, 500, 600]\n",
    "# for i in range(0, 6):              #range(0, n) runs from 0 to n-1  \n",
    "#     print(arr[i])\n",
    "\n",
    "for i in range(0, len(arr)):       #range(0, len(arr)) from 0 to len(arr)-1\n",
    "    print(arr[i])"
   ]
  },
  {
   "cell_type": "markdown",
   "id": "53477f28",
   "metadata": {},
   "source": [
    "# Program to interchange first and last element in list"
   ]
  },
  {
   "cell_type": "markdown",
   "id": "2d82a6a3",
   "metadata": {},
   "source": [
    "input: [12, 35, 9, 56, 24]\n",
    "\n",
    "output: [24, 35, 9, 56, 12]"
   ]
  },
  {
   "cell_type": "markdown",
   "id": "104dd7f6",
   "metadata": {},
   "source": [
    "problem with below approach is that: the element at 0th index, i.e., 12 here is lost\n",
    "\n",
    "a[0] = a[len(arr)-1]                 [24, 35, 9, 56, 24]\n",
    "\n",
    "a[len(arr)-1] = a[0]              \n"
   ]
  },
  {
   "cell_type": "markdown",
   "id": "5fa57025",
   "metadata": {},
   "source": [
    "swapping of elements\n",
    "\n",
    "#a=10, b=20;  ;;;  a=20, b=10\n",
    "\n",
    "temp = a              temp = 10\n",
    "\n",
    "a = b                  a = 20\n",
    "\n",
    "b = temp               b = 10"
   ]
  },
  {
   "cell_type": "code",
   "execution_count": 30,
   "id": "cad2749d",
   "metadata": {},
   "outputs": [
    {
     "data": {
      "text/plain": [
       "[24, 35, 9, 56, 12]"
      ]
     },
     "execution_count": 30,
     "metadata": {},
     "output_type": "execute_result"
    }
   ],
   "source": [
    "def swap_first_and_last_element(l):\n",
    "    temp = l[0]\n",
    "    l[0] = l[len(l)-1]\n",
    "    l[len(l)-1] = temp\n",
    "    \n",
    "    return l\n",
    "\n",
    "swap_first_and_last_element([12, 35, 9, 56, 24])"
   ]
  },
  {
   "cell_type": "markdown",
   "id": "39e8dfd4",
   "metadata": {},
   "source": [
    "# Find sum of array"
   ]
  },
  {
   "cell_type": "markdown",
   "id": "f1a1f241",
   "metadata": {},
   "source": [
    "input arr = [1, 2, 3, 4, 5]\n",
    "\n",
    "output: 15"
   ]
  },
  {
   "cell_type": "code",
   "execution_count": 32,
   "id": "d4f20a03",
   "metadata": {},
   "outputs": [
    {
     "data": {
      "text/plain": [
       "15"
      ]
     },
     "execution_count": 32,
     "metadata": {},
     "output_type": "execute_result"
    }
   ],
   "source": [
    "sum([1, 2, 3, 4, 5])"
   ]
  },
  {
   "cell_type": "code",
   "execution_count": 38,
   "id": "14ef9e7c",
   "metadata": {},
   "outputs": [
    {
     "data": {
      "text/plain": [
       "1500"
      ]
     },
     "execution_count": 38,
     "metadata": {},
     "output_type": "execute_result"
    }
   ],
   "source": [
    "def sum_of_array(arr):\n",
    "    sum_of_numbers = 0          \n",
    "    \n",
    "    for i in range(0, len(arr)):                   #range(0,5) runs from (0,4) #i=0 #i=1                  #i=2  \n",
    "        sum_of_numbers = sum_of_numbers + arr[i]       #0+arr[0]=0+100               #100+arr[1]=100+200  #300+arr[2]=300+300\n",
    "        \n",
    "    return sum_of_numbers\n",
    "\n",
    "sum_of_array([100, 200, 300, 400, 500])"
   ]
  },
  {
   "cell_type": "markdown",
   "id": "fd94415a",
   "metadata": {},
   "source": [
    "# Dictionary examples"
   ]
  },
  {
   "cell_type": "code",
   "execution_count": 41,
   "id": "8f175936",
   "metadata": {},
   "outputs": [
    {
     "name": "stdout",
     "output_type": "stream",
     "text": [
      "<class 'dict'>\n"
     ]
    }
   ],
   "source": [
    "capital_city = {\"Nepal\": \"Kathmandu\", \"England\": \"London\"}\n",
    "print(type(capital_city))"
   ]
  },
  {
   "cell_type": "code",
   "execution_count": 42,
   "id": "d8739522",
   "metadata": {},
   "outputs": [],
   "source": [
    "capital_city[\"India\"] = \"New Delhi\""
   ]
  },
  {
   "cell_type": "markdown",
   "id": "9e5072a8",
   "metadata": {},
   "source": [
    "adding key-value pair in dictionary:"
   ]
  },
  {
   "cell_type": "code",
   "execution_count": 44,
   "id": "89e01cb1",
   "metadata": {},
   "outputs": [
    {
     "name": "stdout",
     "output_type": "stream",
     "text": [
      "{'Nepal': 'Kathmandu', 'England': 'London', 'India': 'New Delhi'}\n"
     ]
    }
   ],
   "source": [
    "print(capital_city)"
   ]
  },
  {
   "cell_type": "markdown",
   "id": "2a287ab2",
   "metadata": {},
   "source": [
    "change value of dictionary"
   ]
  },
  {
   "cell_type": "code",
   "execution_count": 45,
   "id": "8e4dab11",
   "metadata": {},
   "outputs": [],
   "source": [
    "capital_city[\"England\"] = \"UK\""
   ]
  },
  {
   "cell_type": "code",
   "execution_count": 46,
   "id": "abb37f06",
   "metadata": {},
   "outputs": [
    {
     "name": "stdout",
     "output_type": "stream",
     "text": [
      "{'Nepal': 'Kathmandu', 'England': 'UK', 'India': 'New Delhi'}\n"
     ]
    }
   ],
   "source": [
    "print(capital_city)"
   ]
  },
  {
   "cell_type": "markdown",
   "id": "c63b7478",
   "metadata": {},
   "source": [
    "accessing elements from dictionary"
   ]
  },
  {
   "cell_type": "code",
   "execution_count": 47,
   "id": "986d63de",
   "metadata": {},
   "outputs": [
    {
     "name": "stdout",
     "output_type": "stream",
     "text": [
      "Kathmandu\n"
     ]
    }
   ],
   "source": [
    "print(capital_city[\"Nepal\"])"
   ]
  },
  {
   "cell_type": "markdown",
   "id": "5e053035",
   "metadata": {},
   "source": [
    "remove elements from dictionary"
   ]
  },
  {
   "cell_type": "code",
   "execution_count": 48,
   "id": "9fa13660",
   "metadata": {},
   "outputs": [],
   "source": [
    "del capital_city[\"Nepal\"]"
   ]
  },
  {
   "cell_type": "code",
   "execution_count": 49,
   "id": "1e445195",
   "metadata": {},
   "outputs": [
    {
     "name": "stdout",
     "output_type": "stream",
     "text": [
      "{'England': 'UK', 'India': 'New Delhi'}\n"
     ]
    }
   ],
   "source": [
    "print(capital_city)"
   ]
  },
  {
   "cell_type": "code",
   "execution_count": 50,
   "id": "dfc7e3c4",
   "metadata": {},
   "outputs": [
    {
     "name": "stdout",
     "output_type": "stream",
     "text": [
      "Not Present\n"
     ]
    }
   ],
   "source": [
    "if \"Nepal\" in capital_city:\n",
    "    print(\"Present\")\n",
    "else:\n",
    "    print(\"Not Present\")"
   ]
  },
  {
   "cell_type": "markdown",
   "id": "b40d8809",
   "metadata": {},
   "source": [
    "# Dictionary membership"
   ]
  },
  {
   "cell_type": "code",
   "execution_count": 51,
   "id": "0b4e0a8b",
   "metadata": {},
   "outputs": [
    {
     "name": "stdout",
     "output_type": "stream",
     "text": [
      "Present\n"
     ]
    }
   ],
   "source": [
    "if \"England\" in capital_city:\n",
    "    print(\"Present\")\n",
    "else:\n",
    "    print(\"Not Present\")"
   ]
  },
  {
   "cell_type": "markdown",
   "id": "0c9e7f15",
   "metadata": {},
   "source": [
    "input: {'a': 100, 'b': 200, 'c': 300}\n",
    "output: 600"
   ]
  },
  {
   "cell_type": "markdown",
   "id": "ce525ef6",
   "metadata": {},
   "source": [
    "accessing elements in dictionary"
   ]
  },
  {
   "cell_type": "code",
   "execution_count": 55,
   "id": "6701bade",
   "metadata": {},
   "outputs": [
    {
     "name": "stdout",
     "output_type": "stream",
     "text": [
      "key a\n",
      "value 100\n",
      "key b\n",
      "value 200\n",
      "key c\n",
      "value 300\n"
     ]
    }
   ],
   "source": [
    "for i in my_dict:\n",
    "    print(\"key\", i)\n",
    "    print(\"value\", my_dict[i])"
   ]
  },
  {
   "cell_type": "code",
   "execution_count": 57,
   "id": "7860e626",
   "metadata": {},
   "outputs": [
    {
     "name": "stdout",
     "output_type": "stream",
     "text": [
      "key a\n",
      "value 100\n",
      "key b\n",
      "value 200\n",
      "key c\n",
      "value 300\n"
     ]
    }
   ],
   "source": [
    "my_dict = {'a': 100, 'b': 200, 'c': 300}\n",
    "\n",
    "for key, value in my_dict.items():\n",
    "    print(\"key\", key)\n",
    "    print(\"value\", value)"
   ]
  },
  {
   "cell_type": "code",
   "execution_count": 54,
   "id": "02f1bd0f",
   "metadata": {},
   "outputs": [
    {
     "name": "stdout",
     "output_type": "stream",
     "text": [
      "600\n"
     ]
    }
   ],
   "source": [
    "my_dict = {'a': 100, 'b': 200, 'c': 300}\n",
    "sum_of_values = 0\n",
    "\n",
    "for i in my_dict:\n",
    "#     print(\"key\", i)\n",
    "#     print(\"value\", my_dict[i])\n",
    "    sum_of_values = sum_of_values + my_dict[i]\n",
    "    \n",
    "print(sum_of_values)"
   ]
  },
  {
   "cell_type": "code",
   "execution_count": null,
   "id": "c250e65e",
   "metadata": {},
   "outputs": [],
   "source": []
  }
 ],
 "metadata": {
  "kernelspec": {
   "display_name": "Python 3 (ipykernel)",
   "language": "python",
   "name": "python3"
  },
  "language_info": {
   "codemirror_mode": {
    "name": "ipython",
    "version": 3
   },
   "file_extension": ".py",
   "mimetype": "text/x-python",
   "name": "python",
   "nbconvert_exporter": "python",
   "pygments_lexer": "ipython3",
   "version": "3.9.13"
  }
 },
 "nbformat": 4,
 "nbformat_minor": 5
}
