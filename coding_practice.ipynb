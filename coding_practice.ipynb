{
 "cells": [
  {
   "cell_type": "markdown",
   "id": "c2dee916",
   "metadata": {},
   "source": [
    "# Check if string is Palindrome"
   ]
  },
  {
   "cell_type": "markdown",
   "id": "2f182331",
   "metadata": {},
   "source": [
    "SALT----> TLAS          : not palindrome\n",
    "    \n",
    "MALAYALAM----->MALAYALAM  : palindrome\n",
    "\n",
    "AMMA------>AMMA            : palindrome"
   ]
  },
  {
   "cell_type": "markdown",
   "id": "1c6fe365",
   "metadata": {},
   "source": [
    "a string is said to be palindrome if the reverse of the string is the same as the string"
   ]
  },
  {
   "cell_type": "code",
   "execution_count": 6,
   "id": "51cacc42",
   "metadata": {},
   "outputs": [
    {
     "data": {
      "text/plain": [
       "True"
      ]
     },
     "execution_count": 6,
     "metadata": {},
     "output_type": "execute_result"
    }
   ],
   "source": [
    "def is_palindrome(s):\n",
    "    return s[::-1] == s\n",
    "\n",
    "is_palindrome(\"amma\")"
   ]
  },
  {
   "cell_type": "code",
   "execution_count": 7,
   "id": "438459d8",
   "metadata": {},
   "outputs": [
    {
     "data": {
      "text/plain": [
       "True"
      ]
     },
     "execution_count": 7,
     "metadata": {},
     "output_type": "execute_result"
    }
   ],
   "source": [
    "def is_palindrome(s):\n",
    "    return s[::-1] == s\n",
    "\n",
    "is_palindrome(\"malayalam\")"
   ]
  },
  {
   "cell_type": "code",
   "execution_count": 8,
   "id": "2e99c3a9",
   "metadata": {},
   "outputs": [
    {
     "data": {
      "text/plain": [
       "False"
      ]
     },
     "execution_count": 8,
     "metadata": {},
     "output_type": "execute_result"
    }
   ],
   "source": [
    "def is_palindrome(s):\n",
    "    return s[::-1] == s\n",
    "\n",
    "is_palindrome(\"salt\")"
   ]
  },
  {
   "cell_type": "code",
   "execution_count": 14,
   "id": "a7136213",
   "metadata": {},
   "outputs": [
    {
     "name": "stdout",
     "output_type": "stream",
     "text": [
      "None\n"
     ]
    }
   ],
   "source": [
    "def add_two_numbers(x,y):\n",
    "    z = x + y\n",
    "\n",
    "\n",
    "x = add_two_numbers(5,10)\n",
    "print(x)"
   ]
  },
  {
   "cell_type": "code",
   "execution_count": 16,
   "id": "9422f28d",
   "metadata": {},
   "outputs": [
    {
     "name": "stdout",
     "output_type": "stream",
     "text": [
      "15\n",
      "15\n"
     ]
    }
   ],
   "source": [
    "def add_two_numbers(x,y):\n",
    "    z = x + y\n",
    "    print(z)\n",
    "    return z\n",
    "\n",
    "\n",
    "x = add_two_numbers(5,10)\n",
    "print(x)"
   ]
  },
  {
   "cell_type": "code",
   "execution_count": 9,
   "id": "3a2db9f0",
   "metadata": {},
   "outputs": [
    {
     "data": {
      "text/plain": [
       "'tlas'"
      ]
     },
     "execution_count": 9,
     "metadata": {},
     "output_type": "execute_result"
    }
   ],
   "source": [
    "# how to reverse a string\n",
    "s = \"salt\"\n",
    "s[::-1]"
   ]
  },
  {
   "cell_type": "code",
   "execution_count": 10,
   "id": "af0f18e1",
   "metadata": {},
   "outputs": [
    {
     "data": {
      "text/plain": [
       "False"
      ]
     },
     "execution_count": 10,
     "metadata": {},
     "output_type": "execute_result"
    }
   ],
   "source": [
    "# to compare equality between operands\n",
    "4==5"
   ]
  },
  {
   "cell_type": "code",
   "execution_count": 5,
   "id": "a9f74f3d",
   "metadata": {},
   "outputs": [
    {
     "data": {
      "text/plain": [
       "True"
      ]
     },
     "execution_count": 5,
     "metadata": {},
     "output_type": "execute_result"
    }
   ],
   "source": [
    "4==4"
   ]
  },
  {
   "cell_type": "markdown",
   "id": "8da3d7b3",
   "metadata": {},
   "source": [
    "# Find largest element in array"
   ]
  },
  {
   "cell_type": "code",
   "execution_count": 17,
   "id": "f6e4a40b",
   "metadata": {},
   "outputs": [],
   "source": [
    "# array: collection of elements with same datatype"
   ]
  },
  {
   "cell_type": "markdown",
   "id": "62c52fcf",
   "metadata": {},
   "source": [
    "input arr = [20, 10, 4, 100]"
   ]
  },
  {
   "cell_type": "markdown",
   "id": "b39f616a",
   "metadata": {},
   "source": [
    " [20, 10, 4, 100]\n",
    " \n",
    "max = 20\n",
    "\n",
    "20 > 10\n",
    "\n",
    "20 >  4\n",
    "\n",
    "20 < 100   max = 100"
   ]
  },
  {
   "cell_type": "markdown",
   "id": "d2eb8776",
   "metadata": {},
   "source": [
    "[2, 20, 4, 100]\n",
    "\n",
    "max = 2\n",
    "\n",
    "2 < 20    max = 20\n",
    "\n",
    "20 >  4\n",
    "\n",
    "20  < 100   max = 100\n"
   ]
  },
  {
   "cell_type": "code",
   "execution_count": 23,
   "id": "0c1860f6",
   "metadata": {},
   "outputs": [
    {
     "data": {
      "text/plain": [
       "100"
      ]
     },
     "execution_count": 23,
     "metadata": {},
     "output_type": "execute_result"
    }
   ],
   "source": [
    "#NOTE: last element of the array is always at index: len(array)-1\n",
    "\n",
    "def largest_element(arr):\n",
    "    max = arr[0]\n",
    "    \n",
    "    #NOTE: range(1,n) it runs from 1 to n-1\n",
    "    for i in range(1, len(arr)):              #range(1,4): 1 to 3\n",
    "        if arr[i] > max:\n",
    "            max = arr[i]\n",
    "    return max\n",
    "\n",
    "largest_element([2, 20, 4, 100])"
   ]
  },
  {
   "cell_type": "code",
   "execution_count": 22,
   "id": "ef2f50d2",
   "metadata": {},
   "outputs": [
    {
     "name": "stdout",
     "output_type": "stream",
     "text": [
      "2\n",
      "3\n",
      "4\n",
      "5\n"
     ]
    }
   ],
   "source": [
    "for i in range(2, 6):\n",
    "    print(i)"
   ]
  },
  {
   "cell_type": "code",
   "execution_count": null,
   "id": "d2334623",
   "metadata": {},
   "outputs": [],
   "source": [
    "s = \"python\"\n",
    "slice(2, 4)"
   ]
  },
  {
   "cell_type": "code",
   "execution_count": 26,
   "id": "bee59f39",
   "metadata": {},
   "outputs": [
    {
     "name": "stdout",
     "output_type": "stream",
     "text": [
      "100\n",
      "200\n",
      "300\n",
      "400\n",
      "500\n",
      "600\n"
     ]
    }
   ],
   "source": [
    "arr = [100, 200, 300, 400, 500, 600]\n",
    "# for i in range(0, 6):              #range(0, n) runs from 0 to n-1  \n",
    "#     print(arr[i])\n",
    "\n",
    "for i in range(0, len(arr)):       #range(0, len(arr)) from 0 to len(arr)-1\n",
    "    print(arr[i])"
   ]
  },
  {
   "cell_type": "markdown",
   "id": "53477f28",
   "metadata": {},
   "source": [
    "# Program to interchange first and last element in list"
   ]
  },
  {
   "cell_type": "markdown",
   "id": "2d82a6a3",
   "metadata": {},
   "source": [
    "input: [12, 35, 9, 56, 24]\n",
    "\n",
    "output: [24, 35, 9, 56, 12]"
   ]
  },
  {
   "cell_type": "markdown",
   "id": "104dd7f6",
   "metadata": {},
   "source": [
    "problem with below approach is that: the element at 0th index, i.e., 12 here is lost\n",
    "\n",
    "a[0] = a[len(arr)-1]                 [24, 35, 9, 56, 24]\n",
    "\n",
    "a[len(arr)-1] = a[0]              \n"
   ]
  },
  {
   "cell_type": "markdown",
   "id": "5fa57025",
   "metadata": {},
   "source": [
    "swapping of elements\n",
    "\n",
    "#a=10, b=20;  ;;;  a=20, b=10\n",
    "\n",
    "temp = a              temp = 10\n",
    "\n",
    "a = b                  a = 20\n",
    "\n",
    "b = temp               b = 10"
   ]
  },
  {
   "cell_type": "code",
   "execution_count": 30,
   "id": "cad2749d",
   "metadata": {},
   "outputs": [
    {
     "data": {
      "text/plain": [
       "[24, 35, 9, 56, 12]"
      ]
     },
     "execution_count": 30,
     "metadata": {},
     "output_type": "execute_result"
    }
   ],
   "source": [
    "def swap_first_and_last_element(l):\n",
    "    temp = l[0]\n",
    "    l[0] = l[len(l)-1]\n",
    "    l[len(l)-1] = temp\n",
    "    \n",
    "    return l\n",
    "\n",
    "swap_first_and_last_element([12, 35, 9, 56, 24])"
   ]
  },
  {
   "cell_type": "markdown",
   "id": "39e8dfd4",
   "metadata": {},
   "source": [
    "# Find sum of array"
   ]
  },
  {
   "cell_type": "markdown",
   "id": "f1a1f241",
   "metadata": {},
   "source": [
    "input arr = [1, 2, 3, 4, 5]\n",
    "\n",
    "output: 15"
   ]
  },
  {
   "cell_type": "code",
   "execution_count": 32,
   "id": "d4f20a03",
   "metadata": {},
   "outputs": [
    {
     "data": {
      "text/plain": [
       "15"
      ]
     },
     "execution_count": 32,
     "metadata": {},
     "output_type": "execute_result"
    }
   ],
   "source": [
    "sum([1, 2, 3, 4, 5])"
   ]
  },
  {
   "cell_type": "code",
   "execution_count": 38,
   "id": "14ef9e7c",
   "metadata": {},
   "outputs": [
    {
     "data": {
      "text/plain": [
       "1500"
      ]
     },
     "execution_count": 38,
     "metadata": {},
     "output_type": "execute_result"
    }
   ],
   "source": [
    "def sum_of_array(arr):\n",
    "    sum_of_numbers = 0          \n",
    "    \n",
    "    for i in range(0, len(arr)):                   #range(0,5) runs from (0,4) #i=0 #i=1                  #i=2  \n",
    "        sum_of_numbers = sum_of_numbers + arr[i]       #0+arr[0]=0+100               #100+arr[1]=100+200  #300+arr[2]=300+300\n",
    "        \n",
    "    return sum_of_numbers\n",
    "\n",
    "sum_of_array([100, 200, 300, 400, 500])"
   ]
  },
  {
   "cell_type": "markdown",
   "id": "fd94415a",
   "metadata": {},
   "source": [
    "# Dictionary examples"
   ]
  },
  {
   "cell_type": "code",
   "execution_count": 41,
   "id": "8f175936",
   "metadata": {},
   "outputs": [
    {
     "name": "stdout",
     "output_type": "stream",
     "text": [
      "<class 'dict'>\n"
     ]
    }
   ],
   "source": [
    "capital_city = {\"Nepal\": \"Kathmandu\", \"England\": \"London\"}\n",
    "print(type(capital_city))"
   ]
  },
  {
   "cell_type": "code",
   "execution_count": 42,
   "id": "d8739522",
   "metadata": {},
   "outputs": [],
   "source": [
    "capital_city[\"India\"] = \"New Delhi\""
   ]
  },
  {
   "cell_type": "markdown",
   "id": "9e5072a8",
   "metadata": {},
   "source": [
    "adding key-value pair in dictionary:"
   ]
  },
  {
   "cell_type": "code",
   "execution_count": 44,
   "id": "89e01cb1",
   "metadata": {},
   "outputs": [
    {
     "name": "stdout",
     "output_type": "stream",
     "text": [
      "{'Nepal': 'Kathmandu', 'England': 'London', 'India': 'New Delhi'}\n"
     ]
    }
   ],
   "source": [
    "print(capital_city)"
   ]
  },
  {
   "cell_type": "markdown",
   "id": "2a287ab2",
   "metadata": {},
   "source": [
    "change value of dictionary"
   ]
  },
  {
   "cell_type": "code",
   "execution_count": 45,
   "id": "8e4dab11",
   "metadata": {},
   "outputs": [],
   "source": [
    "capital_city[\"England\"] = \"UK\""
   ]
  },
  {
   "cell_type": "code",
   "execution_count": 46,
   "id": "abb37f06",
   "metadata": {},
   "outputs": [
    {
     "name": "stdout",
     "output_type": "stream",
     "text": [
      "{'Nepal': 'Kathmandu', 'England': 'UK', 'India': 'New Delhi'}\n"
     ]
    }
   ],
   "source": [
    "print(capital_city)"
   ]
  },
  {
   "cell_type": "markdown",
   "id": "c63b7478",
   "metadata": {},
   "source": [
    "accessing elements from dictionary"
   ]
  },
  {
   "cell_type": "code",
   "execution_count": 47,
   "id": "986d63de",
   "metadata": {},
   "outputs": [
    {
     "name": "stdout",
     "output_type": "stream",
     "text": [
      "Kathmandu\n"
     ]
    }
   ],
   "source": [
    "print(capital_city[\"Nepal\"])"
   ]
  },
  {
   "cell_type": "markdown",
   "id": "5e053035",
   "metadata": {},
   "source": [
    "remove elements from dictionary"
   ]
  },
  {
   "cell_type": "code",
   "execution_count": 48,
   "id": "9fa13660",
   "metadata": {},
   "outputs": [],
   "source": [
    "del capital_city[\"Nepal\"]"
   ]
  },
  {
   "cell_type": "code",
   "execution_count": 49,
   "id": "1e445195",
   "metadata": {},
   "outputs": [
    {
     "name": "stdout",
     "output_type": "stream",
     "text": [
      "{'England': 'UK', 'India': 'New Delhi'}\n"
     ]
    }
   ],
   "source": [
    "print(capital_city)"
   ]
  },
  {
   "cell_type": "code",
   "execution_count": 50,
   "id": "dfc7e3c4",
   "metadata": {},
   "outputs": [
    {
     "name": "stdout",
     "output_type": "stream",
     "text": [
      "Not Present\n"
     ]
    }
   ],
   "source": [
    "if \"Nepal\" in capital_city:\n",
    "    print(\"Present\")\n",
    "else:\n",
    "    print(\"Not Present\")"
   ]
  },
  {
   "cell_type": "markdown",
   "id": "b40d8809",
   "metadata": {},
   "source": [
    "# Dictionary membership"
   ]
  },
  {
   "cell_type": "code",
   "execution_count": 51,
   "id": "0b4e0a8b",
   "metadata": {},
   "outputs": [
    {
     "name": "stdout",
     "output_type": "stream",
     "text": [
      "Present\n"
     ]
    }
   ],
   "source": [
    "if \"England\" in capital_city:\n",
    "    print(\"Present\")\n",
    "else:\n",
    "    print(\"Not Present\")"
   ]
  },
  {
   "cell_type": "markdown",
   "id": "0c9e7f15",
   "metadata": {},
   "source": [
    "input: {'a': 100, 'b': 200, 'c': 300}\n",
    "output: 600"
   ]
  },
  {
   "cell_type": "markdown",
   "id": "ce525ef6",
   "metadata": {},
   "source": [
    "accessing elements in dictionary"
   ]
  },
  {
   "cell_type": "code",
   "execution_count": 55,
   "id": "6701bade",
   "metadata": {},
   "outputs": [
    {
     "name": "stdout",
     "output_type": "stream",
     "text": [
      "key a\n",
      "value 100\n",
      "key b\n",
      "value 200\n",
      "key c\n",
      "value 300\n"
     ]
    }
   ],
   "source": [
    "for i in my_dict:\n",
    "    print(\"key\", i)\n",
    "    print(\"value\", my_dict[i])"
   ]
  },
  {
   "cell_type": "code",
   "execution_count": 57,
   "id": "7860e626",
   "metadata": {},
   "outputs": [
    {
     "name": "stdout",
     "output_type": "stream",
     "text": [
      "key a\n",
      "value 100\n",
      "key b\n",
      "value 200\n",
      "key c\n",
      "value 300\n"
     ]
    }
   ],
   "source": [
    "my_dict = {'a': 100, 'b': 200, 'c': 300}\n",
    "\n",
    "for key, value in my_dict.items():\n",
    "    print(\"key\", key)\n",
    "    print(\"value\", value)"
   ]
  },
  {
   "cell_type": "code",
   "execution_count": 54,
   "id": "02f1bd0f",
   "metadata": {},
   "outputs": [
    {
     "name": "stdout",
     "output_type": "stream",
     "text": [
      "600\n"
     ]
    }
   ],
   "source": [
    "my_dict = {'a': 100, 'b': 200, 'c': 300}\n",
    "sum_of_values = 0\n",
    "\n",
    "for i in my_dict:\n",
    "#     print(\"key\", i)\n",
    "#     print(\"value\", my_dict[i])\n",
    "    sum_of_values = sum_of_values + my_dict[i]\n",
    "    \n",
    "print(sum_of_values)"
   ]
  },
  {
   "cell_type": "markdown",
   "id": "04720bc8",
   "metadata": {},
   "source": [
    "# Coding Practice - Part 2"
   ]
  },
  {
   "cell_type": "markdown",
   "id": "062c6e8c",
   "metadata": {},
   "source": [
    "# if-else conditionl statements:\n"
   ]
  },
  {
   "cell_type": "markdown",
   "id": "843d82a9",
   "metadata": {},
   "source": [
    "Q. Take values of length and breadth of a rectangle from user and check if it is square or not."
   ]
  },
  {
   "cell_type": "code",
   "execution_count": 1,
   "id": "87e2b8eb",
   "metadata": {},
   "outputs": [
    {
     "name": "stdout",
     "output_type": "stream",
     "text": [
      "Enter length: \n",
      "4\n",
      "enter breadth: \n",
      "4\n",
      "it is a square\n"
     ]
    }
   ],
   "source": [
    "print(\"Enter length: \")\n",
    "l = int(input())\n",
    "print(\"enter breadth: \")\n",
    "b = int(input())\n",
    "if l == b:\n",
    "    print(\"it is a square\")\n",
    "else:\n",
    "    print(\" it is not a squre\")"
   ]
  },
  {
   "cell_type": "markdown",
   "id": "79c71855",
   "metadata": {},
   "source": [
    "Q. Take 2 int values from the user and the print the greatest among them.\n"
   ]
  },
  {
   "cell_type": "code",
   "execution_count": 2,
   "id": "4e389b13",
   "metadata": {},
   "outputs": [
    {
     "name": "stdout",
     "output_type": "stream",
     "text": [
      "enter first number: \n",
      "2\n",
      "enter second number: \n",
      "20\n",
      "the larger number is :  20\n"
     ]
    }
   ],
   "source": [
    "print(\"enter first number: \")\n",
    "n1 = int(input())\n",
    "print(\"enter second number: \")\n",
    "n2 = int(input())\n",
    "\n",
    "if n1 > n2:\n",
    "    print(\"the larger number is : \", n1)\n",
    "else:\n",
    "    print(\"the larger number is : \", n2)"
   ]
  },
  {
   "cell_type": "markdown",
   "id": "3bf8b6b3",
   "metadata": {},
   "source": [
    "Q. A school has following rules for grading system:\n",
    "a. Below 25 - F\n",
    "\n",
    "b. 25 to 45 - E\n",
    "\n",
    "c. 45 to 50-  D\n",
    "\n",
    "d. 50 to 60 - C\n",
    "\n",
    "e. 60 to 80 - B\n",
    "\n",
    "f. above 80 - A\n",
    "\n",
    "\n",
    "Ask user to enter the marks and print the corresponding grade."
   ]
  },
  {
   "cell_type": "code",
   "execution_count": 3,
   "id": "a33bd766",
   "metadata": {},
   "outputs": [
    {
     "name": "stdout",
     "output_type": "stream",
     "text": [
      "enter marks: \n",
      "67\n",
      "grade B\n"
     ]
    }
   ],
   "source": [
    "print(\"enter marks: \")\n",
    "marks = int(input())\n",
    "\n",
    "if marks < 25:\n",
    "    print(\"grade F\")\n",
    "elif marks >= 25 and marks < 45:\n",
    "    print(\"grade E\")\n",
    "elif marks >= 45 and marks < 50:\n",
    "    print(\"grade D\")\n",
    "elif marks >= 50 and marks < 60:\n",
    "    print(\"grade C\")\n",
    "elif marks >= 60 and marks < 80:\n",
    "    print(\"grade B\")\n",
    "else:\n",
    "    print(\"grade A\")"
   ]
  },
  {
   "cell_type": "markdown",
   "id": "ed28741e",
   "metadata": {},
   "source": [
    "# Loops Example:\n"
   ]
  },
  {
   "cell_type": "markdown",
   "id": "c6705d76",
   "metadata": {},
   "source": [
    "Q. Write a program to display powers of 2 till the number entered by the user."
   ]
  },
  {
   "cell_type": "code",
   "execution_count": 10,
   "id": "fbd74744",
   "metadata": {},
   "outputs": [
    {
     "name": "stdout",
     "output_type": "stream",
     "text": [
      "enter power: 3\n",
      "1\n",
      "2\n",
      "4\n",
      "8\n"
     ]
    }
   ],
   "source": [
    "n = 2\n",
    "exp = int(input(\"enter power: \"))\n",
    "\n",
    "i = 0                              \n",
    "while(i < exp+1):   #0<4        #1\n",
    "    n = 2 ** i      #n=2**0=1\n",
    "    i += 1           #i=1\n",
    "    print(n)         \n",
    "    "
   ]
  },
  {
   "cell_type": "code",
   "execution_count": 11,
   "id": "8e0b4ecc",
   "metadata": {},
   "outputs": [
    {
     "name": "stdout",
     "output_type": "stream",
     "text": [
      "enter number: 3\n",
      "1\n",
      "2\n",
      "4\n",
      "8\n"
     ]
    }
   ],
   "source": [
    "n = 2\n",
    "exp = int(input(\"enter number: \"))\n",
    "\n",
    "for i in range(0, exp + 1):          #range(n) goes till n-1\n",
    "    n = 2 ** i\n",
    "    print(n)"
   ]
  },
  {
   "cell_type": "markdown",
   "id": "98e7398b",
   "metadata": {},
   "source": [
    "Q. Take a number from the user and tell if its even or odd."
   ]
  },
  {
   "cell_type": "code",
   "execution_count": 13,
   "id": "a2174c9e",
   "metadata": {},
   "outputs": [
    {
     "name": "stdout",
     "output_type": "stream",
     "text": [
      "25474847\n",
      "odd number\n"
     ]
    }
   ],
   "source": [
    "n = int(input())\n",
    "if n % 2 == 0:\n",
    "    print(\"even number\")\n",
    "else:\n",
    "    print(\"odd number\")"
   ]
  },
  {
   "cell_type": "markdown",
   "id": "62e9f404",
   "metadata": {},
   "source": [
    "Q. Take a number from the user and print all the odd numbers and even numbers till that number in separate list."
   ]
  },
  {
   "cell_type": "code",
   "execution_count": 14,
   "id": "7adb8ab7",
   "metadata": {},
   "outputs": [
    {
     "name": "stdout",
     "output_type": "stream",
     "text": [
      "Enter number: 7\n",
      "even list:  [2, 4, 6]\n",
      "odd_list:  [1, 3, 5, 7]\n"
     ]
    }
   ],
   "source": [
    "n = int(input(\"Enter number: \"))\n",
    "\n",
    "odd_list = []\n",
    "even_list = []\n",
    "\n",
    "for i in range(1, n+1):     #n=3 #i=1 #i=2 #i=3  \n",
    "    if i%2 == 0:\n",
    "        even_list.append(i)   #[2]\n",
    "    else:\n",
    "        odd_list.append(i)   #[1]   #[1, 3]\n",
    "        \n",
    "print(\"even list: \", even_list)\n",
    "print(\"odd_list: \", odd_list)"
   ]
  },
  {
   "cell_type": "markdown",
   "id": "e9dcaa4d",
   "metadata": {},
   "source": [
    "Q. Take a number from the user and print all the prime numbers till there."
   ]
  },
  {
   "cell_type": "code",
   "execution_count": null,
   "id": "9bafb535",
   "metadata": {},
   "outputs": [],
   "source": []
  }
 ],
 "metadata": {
  "kernelspec": {
   "display_name": "Python 3 (ipykernel)",
   "language": "python",
   "name": "python3"
  },
  "language_info": {
   "codemirror_mode": {
    "name": "ipython",
    "version": 3
   },
   "file_extension": ".py",
   "mimetype": "text/x-python",
   "name": "python",
   "nbconvert_exporter": "python",
   "pygments_lexer": "ipython3",
   "version": "3.9.13"
  }
 },
 "nbformat": 4,
 "nbformat_minor": 5
}
