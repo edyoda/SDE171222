{
 "cells": [
  {
   "cell_type": "markdown",
   "id": "fe21f4e0",
   "metadata": {},
   "source": [
    "# JSON(Javascript Serializable Object Notation)"
   ]
  },
  {
   "cell_type": "code",
   "execution_count": 1,
   "id": "b5e535b6",
   "metadata": {},
   "outputs": [],
   "source": [
    "import json"
   ]
  },
  {
   "cell_type": "markdown",
   "id": "cebf9154",
   "metadata": {},
   "source": [
    "# Python JSON to dict"
   ]
  },
  {
   "cell_type": "code",
   "execution_count": 2,
   "id": "6c9f1268",
   "metadata": {},
   "outputs": [],
   "source": [
    "person = '{\"name\": \"abc\", \"languages\": [\"English\", \"French\"]}'"
   ]
  },
  {
   "cell_type": "code",
   "execution_count": 7,
   "id": "ad6cc320",
   "metadata": {},
   "outputs": [
    {
     "data": {
      "text/plain": [
       "str"
      ]
     },
     "execution_count": 7,
     "metadata": {},
     "output_type": "execute_result"
    }
   ],
   "source": [
    "type(person)"
   ]
  },
  {
   "cell_type": "code",
   "execution_count": 3,
   "id": "612967e5",
   "metadata": {},
   "outputs": [],
   "source": [
    "person_dict = json.loads(person)"
   ]
  },
  {
   "cell_type": "code",
   "execution_count": 4,
   "id": "ce22296a",
   "metadata": {},
   "outputs": [
    {
     "name": "stdout",
     "output_type": "stream",
     "text": [
      "{'name': 'abc', 'languages': ['English', 'French']}\n"
     ]
    }
   ],
   "source": [
    "print(person_dict)"
   ]
  },
  {
   "cell_type": "code",
   "execution_count": 5,
   "id": "acc3d0ef",
   "metadata": {},
   "outputs": [
    {
     "data": {
      "text/plain": [
       "['English', 'French']"
      ]
     },
     "execution_count": 5,
     "metadata": {},
     "output_type": "execute_result"
    }
   ],
   "source": [
    "person_dict['languages']"
   ]
  },
  {
   "cell_type": "code",
   "execution_count": 6,
   "id": "a005ae3a",
   "metadata": {},
   "outputs": [
    {
     "data": {
      "text/plain": [
       "2"
      ]
     },
     "execution_count": 6,
     "metadata": {},
     "output_type": "execute_result"
    }
   ],
   "source": [
    "len(person_dict['languages'])"
   ]
  },
  {
   "cell_type": "markdown",
   "id": "c5eff75d",
   "metadata": {},
   "source": [
    "# read json file"
   ]
  },
  {
   "cell_type": "code",
   "execution_count": 8,
   "id": "f8ec4161",
   "metadata": {},
   "outputs": [],
   "source": [
    "import json"
   ]
  },
  {
   "cell_type": "code",
   "execution_count": 9,
   "id": "850cb087",
   "metadata": {},
   "outputs": [],
   "source": [
    "with open('/home/shikhasingh/Downloads/EDYODA_SHIKHA/sample_json.json', 'r') as file:\n",
    "    data = json.load(file)\n",
    "    \n"
   ]
  },
  {
   "cell_type": "code",
   "execution_count": 10,
   "id": "f376d263",
   "metadata": {},
   "outputs": [
    {
     "name": "stdout",
     "output_type": "stream",
     "text": [
      "{'name': 'ABC', 'languages': ['Engilsh', 'French']}\n"
     ]
    }
   ],
   "source": [
    "print(data)"
   ]
  },
  {
   "cell_type": "markdown",
   "id": "d7eac640",
   "metadata": {},
   "source": [
    "# reading through pandas"
   ]
  },
  {
   "cell_type": "code",
   "execution_count": 11,
   "id": "8b5b77d0",
   "metadata": {},
   "outputs": [],
   "source": [
    "import pandas as pd"
   ]
  },
  {
   "cell_type": "code",
   "execution_count": 12,
   "id": "249cabe8",
   "metadata": {},
   "outputs": [],
   "source": [
    "df = pd.read_json('sample_json.json')"
   ]
  },
  {
   "cell_type": "code",
   "execution_count": 16,
   "id": "67b979cb",
   "metadata": {},
   "outputs": [
    {
     "data": {
      "text/plain": [
       "'  name languages\\n0  ABC   Engilsh\\n1  ABC    French'"
      ]
     },
     "execution_count": 16,
     "metadata": {},
     "output_type": "execute_result"
    }
   ],
   "source": [
    "df.to_string()"
   ]
  },
  {
   "cell_type": "code",
   "execution_count": 17,
   "id": "3d47a995",
   "metadata": {},
   "outputs": [
    {
     "data": {
      "text/html": [
       "<div>\n",
       "<style scoped>\n",
       "    .dataframe tbody tr th:only-of-type {\n",
       "        vertical-align: middle;\n",
       "    }\n",
       "\n",
       "    .dataframe tbody tr th {\n",
       "        vertical-align: top;\n",
       "    }\n",
       "\n",
       "    .dataframe thead th {\n",
       "        text-align: right;\n",
       "    }\n",
       "</style>\n",
       "<table border=\"1\" class=\"dataframe\">\n",
       "  <thead>\n",
       "    <tr style=\"text-align: right;\">\n",
       "      <th></th>\n",
       "      <th>name</th>\n",
       "      <th>languages</th>\n",
       "    </tr>\n",
       "  </thead>\n",
       "  <tbody>\n",
       "    <tr>\n",
       "      <th>0</th>\n",
       "      <td>ABC</td>\n",
       "      <td>Engilsh</td>\n",
       "    </tr>\n",
       "    <tr>\n",
       "      <th>1</th>\n",
       "      <td>ABC</td>\n",
       "      <td>French</td>\n",
       "    </tr>\n",
       "  </tbody>\n",
       "</table>\n",
       "</div>"
      ],
      "text/plain": [
       "  name languages\n",
       "0  ABC   Engilsh\n",
       "1  ABC    French"
      ]
     },
     "execution_count": 17,
     "metadata": {},
     "output_type": "execute_result"
    }
   ],
   "source": [
    "df"
   ]
  },
  {
   "cell_type": "markdown",
   "id": "af98360b",
   "metadata": {},
   "source": [
    "# Convert to JSON string"
   ]
  },
  {
   "cell_type": "code",
   "execution_count": 18,
   "id": "69957d21",
   "metadata": {},
   "outputs": [],
   "source": [
    "person_dict = {'name': \"xyz\", 'age': 12, 'profession': 'engineer'}"
   ]
  },
  {
   "cell_type": "code",
   "execution_count": 22,
   "id": "280d0da6",
   "metadata": {},
   "outputs": [
    {
     "data": {
      "text/plain": [
       "dict"
      ]
     },
     "execution_count": 22,
     "metadata": {},
     "output_type": "execute_result"
    }
   ],
   "source": [
    "type(person_dict)"
   ]
  },
  {
   "cell_type": "code",
   "execution_count": 19,
   "id": "57766f00",
   "metadata": {},
   "outputs": [],
   "source": [
    "person_json = json.dumps(person_dict)"
   ]
  },
  {
   "cell_type": "code",
   "execution_count": 20,
   "id": "42536a72",
   "metadata": {},
   "outputs": [
    {
     "name": "stdout",
     "output_type": "stream",
     "text": [
      "{\"name\": \"xyz\", \"age\": 12, \"profession\": \"engineer\"}\n"
     ]
    }
   ],
   "source": [
    "print(person_json)"
   ]
  },
  {
   "cell_type": "code",
   "execution_count": 21,
   "id": "daab22a4",
   "metadata": {},
   "outputs": [
    {
     "name": "stdout",
     "output_type": "stream",
     "text": [
      "<class 'str'>\n"
     ]
    }
   ],
   "source": [
    "print(type(person_json))"
   ]
  },
  {
   "cell_type": "markdown",
   "id": "2eb57352",
   "metadata": {},
   "source": [
    "# Writing JSON to a file"
   ]
  },
  {
   "cell_type": "code",
   "execution_count": 23,
   "id": "1414c004",
   "metadata": {},
   "outputs": [],
   "source": [
    "person_dict = {'name': \"xyz\", 'age': 12, 'profession': 'engineer'}"
   ]
  },
  {
   "cell_type": "code",
   "execution_count": 24,
   "id": "96e68c5a",
   "metadata": {},
   "outputs": [],
   "source": [
    "with open('sample_json_write.json', 'w') as file:\n",
    "    json.dump(person_dict, file)"
   ]
  },
  {
   "cell_type": "code",
   "execution_count": null,
   "id": "175b3aec",
   "metadata": {},
   "outputs": [],
   "source": []
  }
 ],
 "metadata": {
  "kernelspec": {
   "display_name": "Python 3 (ipykernel)",
   "language": "python",
   "name": "python3"
  },
  "language_info": {
   "codemirror_mode": {
    "name": "ipython",
    "version": 3
   },
   "file_extension": ".py",
   "mimetype": "text/x-python",
   "name": "python",
   "nbconvert_exporter": "python",
   "pygments_lexer": "ipython3",
   "version": "3.8.10"
  }
 },
 "nbformat": 4,
 "nbformat_minor": 5
}
