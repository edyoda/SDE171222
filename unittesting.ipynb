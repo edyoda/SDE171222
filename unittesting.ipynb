{
 "cells": [
  {
   "cell_type": "markdown",
   "id": "a49ab58d",
   "metadata": {},
   "source": [
    "# Unittesting:"
   ]
  },
  {
   "cell_type": "markdown",
   "id": "09259a1c",
   "metadata": {},
   "source": [
    "- it's a technique in which individual module is tested for any errors."
   ]
  },
  {
   "cell_type": "code",
   "execution_count": null,
   "id": "e7650bd4",
   "metadata": {},
   "outputs": [],
   "source": []
  },
  {
   "cell_type": "code",
   "execution_count": 7,
   "id": "f1326a09",
   "metadata": {},
   "outputs": [],
   "source": [
    "assert sum([2, 3, 5]) == 10, \"Should be 10\""
   ]
  },
  {
   "cell_type": "code",
   "execution_count": 4,
   "id": "4b002162",
   "metadata": {},
   "outputs": [
    {
     "ename": "AssertionError",
     "evalue": "Should be 10",
     "output_type": "error",
     "traceback": [
      "\u001b[0;31m---------------------------------------------------------------------------\u001b[0m",
      "\u001b[0;31mAssertionError\u001b[0m                            Traceback (most recent call last)",
      "Cell \u001b[0;32mIn [4], line 1\u001b[0m\n\u001b[0;32m----> 1\u001b[0m \u001b[38;5;28;01massert\u001b[39;00m \u001b[38;5;28msum\u001b[39m([\u001b[38;5;241m1\u001b[39m, \u001b[38;5;241m3\u001b[39m, \u001b[38;5;241m5\u001b[39m]) \u001b[38;5;241m==\u001b[39m \u001b[38;5;241m10\u001b[39m, \u001b[38;5;124m\"\u001b[39m\u001b[38;5;124mShould be 10\u001b[39m\u001b[38;5;124m\"\u001b[39m\n",
      "\u001b[0;31mAssertionError\u001b[0m: Should be 10"
     ]
    }
   ],
   "source": [
    "assert sum([1, 3, 5]) == 10, \"Should be 10\""
   ]
  },
  {
   "cell_type": "code",
   "execution_count": 5,
   "id": "2118fb60",
   "metadata": {},
   "outputs": [
    {
     "name": "stdout",
     "output_type": "stream",
     "text": [
      "Everything passed\n"
     ]
    }
   ],
   "source": [
    "def test_sum():\n",
    "    assert sum([2, 3, 5]) == 10, \"Should be 10\"\n",
    "    \n",
    "if __name__ == \"__main__\":\n",
    "    test_sum()\n",
    "    print(\"Everything passed\")"
   ]
  },
  {
   "cell_type": "code",
   "execution_count": 6,
   "id": "127833c6",
   "metadata": {},
   "outputs": [
    {
     "ename": "AssertionError",
     "evalue": "Should be 10",
     "output_type": "error",
     "traceback": [
      "\u001b[0;31m---------------------------------------------------------------------------\u001b[0m",
      "\u001b[0;31mAssertionError\u001b[0m                            Traceback (most recent call last)",
      "Cell \u001b[0;32mIn [6], line 9\u001b[0m\n\u001b[1;32m      7\u001b[0m \u001b[38;5;28;01mif\u001b[39;00m \u001b[38;5;18m__name__\u001b[39m \u001b[38;5;241m==\u001b[39m \u001b[38;5;124m\"\u001b[39m\u001b[38;5;124m__main__\u001b[39m\u001b[38;5;124m\"\u001b[39m:\n\u001b[1;32m      8\u001b[0m     test_sum()\n\u001b[0;32m----> 9\u001b[0m     \u001b[43mtest_sum_tuple\u001b[49m\u001b[43m(\u001b[49m\u001b[43m)\u001b[49m\n\u001b[1;32m     10\u001b[0m     \u001b[38;5;28mprint\u001b[39m(\u001b[38;5;124m\"\u001b[39m\u001b[38;5;124mEverything passed\u001b[39m\u001b[38;5;124m\"\u001b[39m)\n",
      "Cell \u001b[0;32mIn [6], line 5\u001b[0m, in \u001b[0;36mtest_sum_tuple\u001b[0;34m()\u001b[0m\n\u001b[1;32m      4\u001b[0m \u001b[38;5;28;01mdef\u001b[39;00m \u001b[38;5;21mtest_sum_tuple\u001b[39m():\n\u001b[0;32m----> 5\u001b[0m     \u001b[38;5;28;01massert\u001b[39;00m \u001b[38;5;28msum\u001b[39m((\u001b[38;5;241m1\u001b[39m, \u001b[38;5;241m3\u001b[39m, \u001b[38;5;241m5\u001b[39m)) \u001b[38;5;241m==\u001b[39m \u001b[38;5;241m10\u001b[39m, \u001b[38;5;124m\"\u001b[39m\u001b[38;5;124mShould be 10\u001b[39m\u001b[38;5;124m\"\u001b[39m\n",
      "\u001b[0;31mAssertionError\u001b[0m: Should be 10"
     ]
    }
   ],
   "source": [
    "def test_sum():\n",
    "    assert sum([2, 3, 5]) == 10, \"Should be 10\"\n",
    "    \n",
    "def test_sum_tuple():\n",
    "    assert sum((1, 3, 5)) == 10, \"Should be 10\"\n",
    "    \n",
    "if __name__ == \"__main__\":\n",
    "    test_sum()\n",
    "    test_sum_tuple()\n",
    "    print(\"Everything passed\")"
   ]
  },
  {
   "cell_type": "markdown",
   "id": "86a26f5b",
   "metadata": {},
   "source": [
    "# unittest module:"
   ]
  },
  {
   "cell_type": "markdown",
   "id": "52fd1994",
   "metadata": {},
   "source": [
    "- the code must be written using the classes and functions\n"
   ]
  },
  {
   "cell_type": "code",
   "execution_count": 11,
   "id": "6e4c7c5f",
   "metadata": {},
   "outputs": [],
   "source": [
    "import unittest"
   ]
  },
  {
   "cell_type": "code",
   "execution_count": 7,
   "id": "5c91bf54",
   "metadata": {},
   "outputs": [
    {
     "name": "stderr",
     "output_type": "stream",
     "text": [
      "E\n",
      "======================================================================\n",
      "ERROR: /home/shikhasingh/ (unittest.loader._FailedTest)\n",
      "----------------------------------------------------------------------\n",
      "AttributeError: module '__main__' has no attribute '/home/shikhasingh/'\n",
      "\n",
      "----------------------------------------------------------------------\n",
      "Ran 1 test in 0.001s\n",
      "\n",
      "FAILED (errors=1)\n"
     ]
    },
    {
     "ename": "SystemExit",
     "evalue": "True",
     "output_type": "error",
     "traceback": [
      "An exception has occurred, use %tb to see the full traceback.\n",
      "\u001b[0;31mSystemExit\u001b[0m\u001b[0;31m:\u001b[0m True\n"
     ]
    },
    {
     "name": "stderr",
     "output_type": "stream",
     "text": [
      "/home/shikhasingh/.local/lib/python3.8/site-packages/IPython/core/interactiveshell.py:3386: UserWarning: To exit: use 'exit', 'quit', or Ctrl-D.\n",
      "  warn(\"To exit: use 'exit', 'quit', or Ctrl-D.\", stacklevel=1)\n"
     ]
    }
   ],
   "source": [
    "class TestingSum(unittest.TestCase):\n",
    "    \n",
    "    def test_sum(self):\n",
    "        self.assertTrue(sum([2, 3, 5]), 10, \"Should be 10\")\n",
    "\n",
    "    def test_sum_tuple(self):\n",
    "        self.assertTrue(sum((2, 3, 5)), 10, \"Should be 10\")\n",
    "        \n",
    "if __name__ == \"__main__\":\n",
    "    unittest.main()\n",
    "\n",
    "# if __name__ == '__main__':\n",
    "#     unittest.main(argv=['first-arg-is-ignored'], exit=False)"
   ]
  },
  {
   "cell_type": "code",
   "execution_count": null,
   "id": "9b35a170",
   "metadata": {},
   "outputs": [],
   "source": []
  },
  {
   "cell_type": "code",
   "execution_count": 21,
   "id": "2c537b20",
   "metadata": {},
   "outputs": [
    {
     "name": "stdout",
     "output_type": "stream",
     "text": [
      "value  coming from checknums fn. call: 1\n",
      "1\n",
      "value  coming from checknums fn. call: 2\n",
      "2\n",
      "value  coming from checknums fn. call: 3\n",
      "3\n",
      "value  coming from checknums fn. call: 4\n",
      "4\n"
     ]
    }
   ],
   "source": [
    "values = [1,2,3,4]\n",
    "numbers = set(values)\n",
    "\n",
    "def checknums(num):\n",
    "    print(\"value  coming from checknums fn. call:\", num)\n",
    "    if num in numbers:\n",
    "        return True\n",
    "    else:\n",
    "        return False\n",
    "    \n",
    "for i in filter(checknums, values):\n",
    "    print(i)"
   ]
  },
  {
   "cell_type": "code",
   "execution_count": 2,
   "id": "3ff062ea",
   "metadata": {},
   "outputs": [
    {
     "name": "stderr",
     "output_type": "stream",
     "text": [
      ".\n",
      "----------------------------------------------------------------------\n",
      "Ran 1 test in 0.001s\n",
      "\n",
      "OK\n"
     ]
    }
   ],
   "source": [
    "import unittest\n",
    "\n",
    "class SimpleTest(unittest.TestCase):\n",
    "\n",
    "\t# Returns True or False.\n",
    "\tdef test(self):\t\t\n",
    "\t\tself.assertTrue(True)\n",
    "\n",
    "# if __name__ == '__main__':\n",
    "# \tunittest.main()\n",
    "\n",
    "if __name__ == '__main__':\n",
    "    unittest.main(argv=['first-arg-is-ignored'], exit=False)"
   ]
  },
  {
   "cell_type": "code",
   "execution_count": 6,
   "id": "b0905676",
   "metadata": {},
   "outputs": [
    {
     "name": "stderr",
     "output_type": "stream",
     "text": [
      "......EE\n",
      "======================================================================\n",
      "ERROR: test_sum (__main__.TestingSum)\n",
      "----------------------------------------------------------------------\n",
      "Traceback (most recent call last):\n",
      "  File \"/tmp/ipykernel_809593/2990753964.py\", line 4, in test_sum\n",
      "    self.assertTrue(sum([2, 3, 5]), 10, \"Should be 10\")\n",
      "TypeError: assertTrue() takes from 2 to 3 positional arguments but 4 were given\n",
      "\n",
      "======================================================================\n",
      "ERROR: test_sum_tuple (__main__.TestingSum)\n",
      "----------------------------------------------------------------------\n",
      "Traceback (most recent call last):\n",
      "  File \"/tmp/ipykernel_809593/2990753964.py\", line 7, in test_sum_tuple\n",
      "    self.assertTrue(sum((2, 3, 5)), 10, \"Should be 10\")\n",
      "TypeError: assertTrue() takes from 2 to 3 positional arguments but 4 were given\n",
      "\n",
      "----------------------------------------------------------------------\n",
      "Ran 8 tests in 0.008s\n",
      "\n",
      "FAILED (errors=2)\n"
     ]
    }
   ],
   "source": [
    "# Python code to demonstrate working of unittest\n",
    "import unittest\n",
    "\n",
    "class TestStringMethods(unittest.TestCase):\n",
    "\t\n",
    "\tdef setUp(self):\n",
    "\t\tpass\n",
    "\n",
    "\t# Returns True if the string contains 4 a.\n",
    "\tdef test_strings_a(self):\n",
    "\t\tself.assertEqual( 'a'*4, 'aaaa')\n",
    "\n",
    "\t# Returns True if the string is in upper case.\n",
    "\tdef test_upper(self):\t\t\n",
    "\t\tself.assertEqual('foo'.upper(), 'FOO')\n",
    "\n",
    "\t# Returns TRUE if the string is in uppercase\n",
    "\t# else returns False.\n",
    "\tdef test_isupper(self):\t\t\n",
    "\t\tself.assertTrue('FOO'.isupper())\n",
    "\t\tself.assertFalse('Foo'.isupper())\n",
    "\n",
    "\t# Returns true if the string is stripped and\n",
    "\t# matches the given output.\n",
    "\tdef test_strip(self):\t\t\n",
    "\t\ts = 'lllllsforkkkkk'\n",
    "\t\tself.assertEqual(s.strip('lllll'), 'sforkkkkk')\n",
    "\n",
    "\t# Returns true if the string splits and matches\n",
    "\t# the given output.\n",
    "\tdef test_split(self):\t\t\n",
    "\t\ts = 'hello world'\n",
    "\t\tself.assertEqual(s.split(), ['hello', 'world'])\n",
    "\t\twith self.assertRaises(TypeError):\n",
    "\t\t\ts.split(2)\n",
    "\n",
    "# if __name__ == '__main__':\n",
    "# \tunittest.main()\n",
    "\n",
    "if __name__ == '__main__':\n",
    "    unittest.main(argv=['first-arg-is-ignored'], exit=False)\n"
   ]
  },
  {
   "cell_type": "code",
   "execution_count": null,
   "id": "1291a763",
   "metadata": {},
   "outputs": [],
   "source": []
  }
 ],
 "metadata": {
  "kernelspec": {
   "display_name": "Python 3 (ipykernel)",
   "language": "python",
   "name": "python3"
  },
  "language_info": {
   "codemirror_mode": {
    "name": "ipython",
    "version": 3
   },
   "file_extension": ".py",
   "mimetype": "text/x-python",
   "name": "python",
   "nbconvert_exporter": "python",
   "pygments_lexer": "ipython3",
   "version": "3.8.10"
  }
 },
 "nbformat": 4,
 "nbformat_minor": 5
}
