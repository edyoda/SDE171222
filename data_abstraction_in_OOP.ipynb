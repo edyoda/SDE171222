{
 "cells": [
  {
   "cell_type": "markdown",
   "id": "a5840ced",
   "metadata": {},
   "source": [
    "- It is a technique that is used to hide the internal functionality of the function from the users.\n",
    "- The user only interacts with the basic implementation of the function, but the inner working is hidden.\n",
    "- User is familar with __\"what function does\"__ but they don't know __\"how it does\"__"
   ]
  },
  {
   "cell_type": "markdown",
   "id": "65756157",
   "metadata": {},
   "source": [
    "# Why abstaraction is important?\n"
   ]
  },
  {
   "cell_type": "markdown",
   "id": "0b7b4215",
   "metadata": {},
   "source": [
    "- in order to reduce the complexity\n",
    "- improve application efficiency"
   ]
  },
  {
   "cell_type": "markdown",
   "id": "f696c242",
   "metadata": {},
   "source": [
    "# Example:\n"
   ]
  },
  {
   "cell_type": "markdown",
   "id": "ab5bb0f2",
   "metadata": {},
   "source": [
    "- games in mobile phone\n",
    "- ATM Machine"
   ]
  },
  {
   "cell_type": "code",
   "execution_count": null,
   "id": "b8a8f85f",
   "metadata": {},
   "outputs": [],
   "source": []
  }
 ],
 "metadata": {
  "kernelspec": {
   "display_name": "Python 3 (ipykernel)",
   "language": "python",
   "name": "python3"
  },
  "language_info": {
   "codemirror_mode": {
    "name": "ipython",
    "version": 3
   },
   "file_extension": ".py",
   "mimetype": "text/x-python",
   "name": "python",
   "nbconvert_exporter": "python",
   "pygments_lexer": "ipython3",
   "version": "3.8.10"
  }
 },
 "nbformat": 4,
 "nbformat_minor": 5
}
