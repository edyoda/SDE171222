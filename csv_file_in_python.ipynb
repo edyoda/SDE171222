{
 "cells": [
  {
   "cell_type": "markdown",
   "id": "948bce52",
   "metadata": {},
   "source": [
    "# CSV(Comma Separated Values)"
   ]
  },
  {
   "cell_type": "code",
   "execution_count": 1,
   "id": "bc4aaaa0",
   "metadata": {},
   "outputs": [],
   "source": [
    "import csv"
   ]
  },
  {
   "cell_type": "code",
   "execution_count": 6,
   "id": "9131da7d",
   "metadata": {},
   "outputs": [],
   "source": [
    "import pandas as pd"
   ]
  },
  {
   "cell_type": "code",
   "execution_count": 2,
   "id": "ef1bcb78",
   "metadata": {},
   "outputs": [
    {
     "data": {
      "text/plain": [
       "'/home/shikhasingh/Downloads/EDYODA_SHIKHA'"
      ]
     },
     "execution_count": 2,
     "metadata": {},
     "output_type": "execute_result"
    }
   ],
   "source": [
    "import os\n",
    "os.getcwd()"
   ]
  },
  {
   "cell_type": "code",
   "execution_count": 4,
   "id": "cccf5833",
   "metadata": {},
   "outputs": [],
   "source": [
    "# file_name = \"sample_csv.csv\"\n",
    "file_name = \"/home/shikhasingh/Downloads/EDYODA_SHIKHA/sample_csv.csv\""
   ]
  },
  {
   "cell_type": "code",
   "execution_count": 5,
   "id": "40f1ad28",
   "metadata": {},
   "outputs": [
    {
     "name": "stdout",
     "output_type": "stream",
     "text": [
      "['name ', 'age', 'profession']\n",
      "['abc', '23', 'engineer']\n",
      "['xyz', '25', 'artist']\n"
     ]
    }
   ],
   "source": [
    "with open(file_name, 'r') as file:\n",
    "    reader = csv.reader(file)\n",
    "    for row in reader:\n",
    "        print(row)"
   ]
  },
  {
   "cell_type": "markdown",
   "id": "a2108975",
   "metadata": {},
   "source": [
    "# through pandas library"
   ]
  },
  {
   "cell_type": "code",
   "execution_count": 7,
   "id": "6aab2e6e",
   "metadata": {},
   "outputs": [],
   "source": [
    "import pandas as pd"
   ]
  },
  {
   "cell_type": "code",
   "execution_count": 9,
   "id": "399fbd7b",
   "metadata": {},
   "outputs": [],
   "source": [
    "df = pd.read_csv(file_name)"
   ]
  },
  {
   "cell_type": "code",
   "execution_count": 10,
   "id": "3b9966f8",
   "metadata": {},
   "outputs": [
    {
     "data": {
      "text/html": [
       "<div>\n",
       "<style scoped>\n",
       "    .dataframe tbody tr th:only-of-type {\n",
       "        vertical-align: middle;\n",
       "    }\n",
       "\n",
       "    .dataframe tbody tr th {\n",
       "        vertical-align: top;\n",
       "    }\n",
       "\n",
       "    .dataframe thead th {\n",
       "        text-align: right;\n",
       "    }\n",
       "</style>\n",
       "<table border=\"1\" class=\"dataframe\">\n",
       "  <thead>\n",
       "    <tr style=\"text-align: right;\">\n",
       "      <th></th>\n",
       "      <th>name</th>\n",
       "      <th>age</th>\n",
       "      <th>profession</th>\n",
       "    </tr>\n",
       "  </thead>\n",
       "  <tbody>\n",
       "    <tr>\n",
       "      <th>0</th>\n",
       "      <td>abc</td>\n",
       "      <td>23</td>\n",
       "      <td>engineer</td>\n",
       "    </tr>\n",
       "    <tr>\n",
       "      <th>1</th>\n",
       "      <td>xyz</td>\n",
       "      <td>25</td>\n",
       "      <td>artist</td>\n",
       "    </tr>\n",
       "  </tbody>\n",
       "</table>\n",
       "</div>"
      ],
      "text/plain": [
       "  name   age profession\n",
       "0   abc   23   engineer\n",
       "1   xyz   25     artist"
      ]
     },
     "execution_count": 10,
     "metadata": {},
     "output_type": "execute_result"
    }
   ],
   "source": [
    "df"
   ]
  },
  {
   "cell_type": "code",
   "execution_count": 11,
   "id": "619d4915",
   "metadata": {},
   "outputs": [
    {
     "data": {
      "text/plain": [
       "Index(['name ', 'age', 'profession'], dtype='object')"
      ]
     },
     "execution_count": 11,
     "metadata": {},
     "output_type": "execute_result"
    }
   ],
   "source": [
    "df.columns"
   ]
  },
  {
   "cell_type": "code",
   "execution_count": 13,
   "id": "3aa61efc",
   "metadata": {},
   "outputs": [
    {
     "data": {
      "text/plain": [
       "0    abc\n",
       "1    xyz\n",
       "Name: name , dtype: object"
      ]
     },
     "execution_count": 13,
     "metadata": {},
     "output_type": "execute_result"
    }
   ],
   "source": [
    "df['name ']"
   ]
  },
  {
   "cell_type": "markdown",
   "id": "4dd4bebc",
   "metadata": {},
   "source": [
    "# writing csv files using csv.writer()"
   ]
  },
  {
   "cell_type": "code",
   "execution_count": 14,
   "id": "9bf33b9e",
   "metadata": {},
   "outputs": [],
   "source": [
    "import csv"
   ]
  },
  {
   "cell_type": "code",
   "execution_count": 16,
   "id": "4700cadb",
   "metadata": {},
   "outputs": [],
   "source": [
    "with open('sample_code_v2.csv', 'w', newline='') as file:\n",
    "    writer = csv.writer(file)\n",
    "    writer.writerow([\"name\", \"age\", \"profession\"])\n",
    "    writer.writerow([1, 23, \"artist\"])\n",
    "    "
   ]
  },
  {
   "cell_type": "markdown",
   "id": "44dbab72",
   "metadata": {},
   "source": [
    "# writing csv files using pandas"
   ]
  },
  {
   "cell_type": "code",
   "execution_count": 17,
   "id": "e1b0e303",
   "metadata": {},
   "outputs": [],
   "source": [
    "import pandas as pd"
   ]
  },
  {
   "cell_type": "code",
   "execution_count": 18,
   "id": "4869e063",
   "metadata": {},
   "outputs": [
    {
     "name": "stdout",
     "output_type": "stream",
     "text": [
      "  name  age profession\n",
      "0  abc   23   engineer\n",
      "1  xyz   25     doctor\n"
     ]
    }
   ],
   "source": [
    "name = [\"abc\", \"xyz\"]\n",
    "age = [23, 25]\n",
    "profession = [\"engineer\", \"doctor\"]\n",
    "d = {'name': name, 'age': age, 'profession': profession}\n",
    "df = pd.DataFrame(d)\n",
    "print(df)"
   ]
  },
  {
   "cell_type": "code",
   "execution_count": 19,
   "id": "29b4f5af",
   "metadata": {},
   "outputs": [],
   "source": [
    "df.to_csv('sample_code_v2_thru_pandas.csv')"
   ]
  },
  {
   "cell_type": "markdown",
   "id": "590a711c",
   "metadata": {},
   "source": [
    "# writing to csv file with tab delimiter"
   ]
  },
  {
   "cell_type": "code",
   "execution_count": 20,
   "id": "e9727289",
   "metadata": {},
   "outputs": [],
   "source": [
    "import csv"
   ]
  },
  {
   "cell_type": "code",
   "execution_count": 22,
   "id": "62dced7e",
   "metadata": {},
   "outputs": [],
   "source": [
    "with open('delimiter.csv', 'w') as file:\n",
    "    writer = csv.writer(file, delimiter='\\t')\n",
    "    writer.writerow([\"name\", \"age\", \"profession\"])\n",
    "    writer.writerow([1, 23, \"artist\"])\n",
    "    \n",
    "    "
   ]
  },
  {
   "cell_type": "markdown",
   "id": "1b01123e",
   "metadata": {},
   "source": [
    "# reading csv files with tab delimiter using pd & csv module"
   ]
  },
  {
   "cell_type": "code",
   "execution_count": 25,
   "id": "491ba230",
   "metadata": {},
   "outputs": [],
   "source": [
    "df = pd.read_csv('delimiter.csv', sep='\\t')"
   ]
  },
  {
   "cell_type": "code",
   "execution_count": 26,
   "id": "75a03e02",
   "metadata": {},
   "outputs": [
    {
     "data": {
      "text/html": [
       "<div>\n",
       "<style scoped>\n",
       "    .dataframe tbody tr th:only-of-type {\n",
       "        vertical-align: middle;\n",
       "    }\n",
       "\n",
       "    .dataframe tbody tr th {\n",
       "        vertical-align: top;\n",
       "    }\n",
       "\n",
       "    .dataframe thead th {\n",
       "        text-align: right;\n",
       "    }\n",
       "</style>\n",
       "<table border=\"1\" class=\"dataframe\">\n",
       "  <thead>\n",
       "    <tr style=\"text-align: right;\">\n",
       "      <th></th>\n",
       "      <th>name</th>\n",
       "      <th>age</th>\n",
       "      <th>profession</th>\n",
       "    </tr>\n",
       "  </thead>\n",
       "  <tbody>\n",
       "    <tr>\n",
       "      <th>0</th>\n",
       "      <td>1</td>\n",
       "      <td>23</td>\n",
       "      <td>artist</td>\n",
       "    </tr>\n",
       "  </tbody>\n",
       "</table>\n",
       "</div>"
      ],
      "text/plain": [
       "   name  age profession\n",
       "0     1   23     artist"
      ]
     },
     "execution_count": 26,
     "metadata": {},
     "output_type": "execute_result"
    }
   ],
   "source": [
    "df"
   ]
  },
  {
   "cell_type": "code",
   "execution_count": 27,
   "id": "1141c69d",
   "metadata": {},
   "outputs": [
    {
     "name": "stdout",
     "output_type": "stream",
     "text": [
      "['name', 'age', 'profession']\n",
      "['1', '23', 'artist']\n"
     ]
    }
   ],
   "source": [
    "with open('delimiter.csv', 'r') as file:\n",
    "    reader = csv.reader(file, delimiter='\\t')\n",
    "    for row in reader:\n",
    "        print(row)"
   ]
  },
  {
   "cell_type": "code",
   "execution_count": null,
   "id": "028a7e8b",
   "metadata": {},
   "outputs": [],
   "source": []
  }
 ],
 "metadata": {
  "kernelspec": {
   "display_name": "Python 3 (ipykernel)",
   "language": "python",
   "name": "python3"
  },
  "language_info": {
   "codemirror_mode": {
    "name": "ipython",
    "version": 3
   },
   "file_extension": ".py",
   "mimetype": "text/x-python",
   "name": "python",
   "nbconvert_exporter": "python",
   "pygments_lexer": "ipython3",
   "version": "3.8.10"
  }
 },
 "nbformat": 4,
 "nbformat_minor": 5
}
