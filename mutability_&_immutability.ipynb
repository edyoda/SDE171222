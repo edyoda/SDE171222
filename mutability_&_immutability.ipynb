{
 "cells": [
  {
   "cell_type": "markdown",
   "id": "10385a1e",
   "metadata": {},
   "source": [
    "immutable objects:\n",
    "\n",
    "- numbers\n",
    "- strings\n",
    "- tuples\n"
   ]
  },
  {
   "cell_type": "markdown",
   "id": "a0c6c4d2",
   "metadata": {},
   "source": [
    "mutable objects:\n",
    "    \n",
    "- lists\n",
    "- sets\n",
    "- dictionaries"
   ]
  },
  {
   "cell_type": "markdown",
   "id": "9bf4a422",
   "metadata": {},
   "source": [
    "# IMMUTABLE OBJECTS:"
   ]
  },
  {
   "cell_type": "code",
   "execution_count": 1,
   "id": "45814472",
   "metadata": {},
   "outputs": [
    {
     "name": "stdout",
     "output_type": "stream",
     "text": [
      "mem addr at 1000 value:  2548156013232\n",
      "mem addr at 2000 value:  2548156012880\n"
     ]
    }
   ],
   "source": [
    "c = 1000\n",
    "print(\"mem addr at 1000 value: \", id(c))\n",
    "c = 2000\n",
    "print(\"mem addr at 2000 value: \", id(c))"
   ]
  },
  {
   "cell_type": "code",
   "execution_count": 3,
   "id": "2f6c1646",
   "metadata": {},
   "outputs": [
    {
     "name": "stdout",
     "output_type": "stream",
     "text": [
      "mem addr at monkey value:  2548125044144\n",
      "mem addr at bear value:  2548155653552\n",
      "mem addr at bear value:  0x25149e99db0\n"
     ]
    }
   ],
   "source": [
    "m = \"monkey\"\n",
    "print(\"mem addr at monkey value: \", id(m))\n",
    "m = \"bear\"\n",
    "print(\"mem addr at bear value: \", id(m))\n",
    "print(\"mem addr at bear value: \", hex(id(m)))"
   ]
  },
  {
   "cell_type": "code",
   "execution_count": 4,
   "id": "cde9bf5e",
   "metadata": {},
   "outputs": [
    {
     "name": "stdout",
     "output_type": "stream",
     "text": [
      "mem address for initial tuple 2548151585984\n",
      "mem address for initial tuple 2548151601408\n"
     ]
    }
   ],
   "source": [
    "t = tuple([1, 2, 3])\n",
    "print(\"mem address for initial tuple\", id(t))\n",
    "t = tuple([4, 5, 6])\n",
    "print(\"mem address for initial tuple\", id(t))"
   ]
  },
  {
   "cell_type": "markdown",
   "id": "7a8905d8",
   "metadata": {},
   "source": [
    "# MUTABLE OBJECTS"
   ]
  },
  {
   "cell_type": "code",
   "execution_count": 5,
   "id": "40d61d54",
   "metadata": {},
   "outputs": [
    {
     "name": "stdout",
     "output_type": "stream",
     "text": [
      "memory address of h list:  2548156445504\n",
      "memory address of tuple t:  2548155500160\n",
      "memory address of h list:  2548156445504\n",
      "memory address of tuple t:  2548155500160\n"
     ]
    }
   ],
   "source": [
    "l = [1, 2, 3]\n",
    "h = [4, 5]\n",
    "print(\"memory address of h list: \", id(h))\n",
    "t = (l, h)\n",
    "print(\"memory address of tuple t: \", id(t))\n",
    "h.append(6)\n",
    "print(\"memory address of h list: \", id(h))\n",
    "print(\"memory address of tuple t: \", id(t))"
   ]
  },
  {
   "cell_type": "code",
   "execution_count": null,
   "id": "6d7a3c8e",
   "metadata": {},
   "outputs": [],
   "source": []
  }
 ],
 "metadata": {
  "kernelspec": {
   "display_name": "Python 3 (ipykernel)",
   "language": "python",
   "name": "python3"
  },
  "language_info": {
   "codemirror_mode": {
    "name": "ipython",
    "version": 3
   },
   "file_extension": ".py",
   "mimetype": "text/x-python",
   "name": "python",
   "nbconvert_exporter": "python",
   "pygments_lexer": "ipython3",
   "version": "3.9.13"
  }
 },
 "nbformat": 4,
 "nbformat_minor": 5
}
