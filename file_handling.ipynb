{
 "cells": [
  {
   "cell_type": "code",
   "execution_count": 51,
   "id": "b89d3c99",
   "metadata": {},
   "outputs": [],
   "source": [
    "import os"
   ]
  },
  {
   "cell_type": "code",
   "execution_count": 2,
   "id": "2b81db13",
   "metadata": {},
   "outputs": [
    {
     "data": {
      "text/plain": [
       "'C:\\\\Users\\\\SHIKHA\\\\Downloads\\\\EDYODA_SHIKHA'"
      ]
     },
     "execution_count": 2,
     "metadata": {},
     "output_type": "execute_result"
    }
   ],
   "source": [
    "os.getcwd()"
   ]
  },
  {
   "cell_type": "markdown",
   "id": "c4e10b9e",
   "metadata": {},
   "source": [
    "# Opening a file:"
   ]
  },
  {
   "cell_type": "markdown",
   "id": "d426ad00",
   "metadata": {},
   "source": [
    "Syntax: \n",
    "    \n",
    "file_object = open('file_name', 'mode')          \n",
    "\n",
    "- file_name we have 2 ways:\n",
    "    -  #abc.txt #abc.csv    , in this, file gets created in current working directory\n",
    "    - #absolute path: 'C:\\\\Users\\\\SHIKHA\\\\Downloads\\\\abc.txt'\n",
    "    \n",
    " - mode: optional and can take values like: 'r', 'w', 'a'"
   ]
  },
  {
   "cell_type": "code",
   "execution_count": 3,
   "id": "cf512949",
   "metadata": {},
   "outputs": [
    {
     "ename": "FileNotFoundError",
     "evalue": "[Errno 2] No such file or directory: 'abc.txt'",
     "output_type": "error",
     "traceback": [
      "\u001b[1;31m---------------------------------------------------------------------------\u001b[0m",
      "\u001b[1;31mFileNotFoundError\u001b[0m                         Traceback (most recent call last)",
      "\u001b[1;32m~\\AppData\\Local\\Temp\\ipykernel_21780\\2691582015.py\u001b[0m in \u001b[0;36m<module>\u001b[1;34m\u001b[0m\n\u001b[1;32m----> 1\u001b[1;33m \u001b[0mopen\u001b[0m\u001b[1;33m(\u001b[0m\u001b[1;34m'abc.txt'\u001b[0m\u001b[1;33m,\u001b[0m \u001b[1;34m'r'\u001b[0m\u001b[1;33m)\u001b[0m\u001b[1;33m\u001b[0m\u001b[1;33m\u001b[0m\u001b[0m\n\u001b[0m",
      "\u001b[1;31mFileNotFoundError\u001b[0m: [Errno 2] No such file or directory: 'abc.txt'"
     ]
    }
   ],
   "source": [
    "open('abc.txt', 'r')"
   ]
  },
  {
   "cell_type": "code",
   "execution_count": 5,
   "id": "441f15b8",
   "metadata": {},
   "outputs": [
    {
     "ename": "FileNotFoundError",
     "evalue": "[Errno 2] No such file or directory: 'abc.txt'",
     "output_type": "error",
     "traceback": [
      "\u001b[1;31m---------------------------------------------------------------------------\u001b[0m",
      "\u001b[1;31mFileNotFoundError\u001b[0m                         Traceback (most recent call last)",
      "\u001b[1;32m~\\AppData\\Local\\Temp\\ipykernel_21780\\2613700119.py\u001b[0m in \u001b[0;36m<module>\u001b[1;34m\u001b[0m\n\u001b[0;32m      1\u001b[0m \u001b[1;31m# file1 = open(\"abc.txt\")\u001b[0m\u001b[1;33m\u001b[0m\u001b[1;33m\u001b[0m\u001b[0m\n\u001b[1;32m----> 2\u001b[1;33m \u001b[0mfile1\u001b[0m \u001b[1;33m=\u001b[0m \u001b[0mopen\u001b[0m\u001b[1;33m(\u001b[0m\u001b[1;34m\"abc.txt\"\u001b[0m\u001b[1;33m,\u001b[0m \u001b[1;34m'r'\u001b[0m\u001b[1;33m)\u001b[0m\u001b[1;33m\u001b[0m\u001b[1;33m\u001b[0m\u001b[0m\n\u001b[0m\u001b[0;32m      3\u001b[0m \u001b[1;31m#file opens in read mode\u001b[0m\u001b[1;33m\u001b[0m\u001b[1;33m\u001b[0m\u001b[0m\n",
      "\u001b[1;31mFileNotFoundError\u001b[0m: [Errno 2] No such file or directory: 'abc.txt'"
     ]
    }
   ],
   "source": [
    "# file1 = open(\"abc.txt\")\n",
    "file1 = open(\"abc.txt\", 'r')\n",
    "#file opens in read mode"
   ]
  },
  {
   "cell_type": "code",
   "execution_count": 7,
   "id": "ad665965",
   "metadata": {},
   "outputs": [],
   "source": [
    "file1 = open(\"abc.txt\", 'w')"
   ]
  },
  {
   "cell_type": "code",
   "execution_count": 9,
   "id": "da27ea24",
   "metadata": {},
   "outputs": [
    {
     "ename": "FileNotFoundError",
     "evalue": "[Errno 2] No such file or directory: 'img.bmp'",
     "output_type": "error",
     "traceback": [
      "\u001b[1;31m---------------------------------------------------------------------------\u001b[0m",
      "\u001b[1;31mFileNotFoundError\u001b[0m                         Traceback (most recent call last)",
      "\u001b[1;32m~\\AppData\\Local\\Temp\\ipykernel_21780\\2488098887.py\u001b[0m in \u001b[0;36m<module>\u001b[1;34m\u001b[0m\n\u001b[1;32m----> 1\u001b[1;33m \u001b[0mfile1\u001b[0m \u001b[1;33m=\u001b[0m \u001b[0mopen\u001b[0m\u001b[1;33m(\u001b[0m\u001b[1;34m\"img.bmp\"\u001b[0m\u001b[1;33m,\u001b[0m \u001b[1;34m'r+b'\u001b[0m\u001b[1;33m)\u001b[0m\u001b[1;33m\u001b[0m\u001b[1;33m\u001b[0m\u001b[0m\n\u001b[0m",
      "\u001b[1;31mFileNotFoundError\u001b[0m: [Errno 2] No such file or directory: 'img.bmp'"
     ]
    }
   ],
   "source": [
    "file1 = open(\"img.bmp\", 'r+b')"
   ]
  },
  {
   "cell_type": "markdown",
   "id": "a0de0244",
   "metadata": {},
   "source": [
    "# Reading files in Python:\n"
   ]
  },
  {
   "cell_type": "code",
   "execution_count": 16,
   "id": "683d98d8",
   "metadata": {},
   "outputs": [],
   "source": [
    "# open a file and read it\n",
    "file1 = open(\"abc.txt\", \"r\")"
   ]
  },
  {
   "cell_type": "code",
   "execution_count": 17,
   "id": "404c2506",
   "metadata": {},
   "outputs": [],
   "source": [
    "# read the file\n",
    "content_of_file = file1.read()"
   ]
  },
  {
   "cell_type": "code",
   "execution_count": 18,
   "id": "777e0c20",
   "metadata": {},
   "outputs": [
    {
     "name": "stdout",
     "output_type": "stream",
     "text": [
      "I eat an apple.\n"
     ]
    }
   ],
   "source": [
    "print(content_of_file)"
   ]
  },
  {
   "cell_type": "code",
   "execution_count": null,
   "id": "16766dce",
   "metadata": {},
   "outputs": [],
   "source": [
    "#C:\\Users\\SHIKHA\\Downloads"
   ]
  },
  {
   "cell_type": "code",
   "execution_count": 22,
   "id": "5c5112c3",
   "metadata": {},
   "outputs": [],
   "source": [
    "file2 = open(\"C:/Users/SHIKHA/Downloads/abc.txt\", 'r')"
   ]
  },
  {
   "cell_type": "code",
   "execution_count": 23,
   "id": "30b17309",
   "metadata": {},
   "outputs": [],
   "source": [
    "content_of_file2 = file2.read()"
   ]
  },
  {
   "cell_type": "code",
   "execution_count": 24,
   "id": "5ab7839a",
   "metadata": {},
   "outputs": [
    {
     "name": "stdout",
     "output_type": "stream",
     "text": [
      "I eat an apple. This file is not at jupyter notebbok directory location.\n"
     ]
    }
   ],
   "source": [
    "print(content_of_file2)"
   ]
  },
  {
   "cell_type": "markdown",
   "id": "8360a383",
   "metadata": {},
   "source": [
    "# Closing files in Python"
   ]
  },
  {
   "cell_type": "markdown",
   "id": "48bcda2a",
   "metadata": {},
   "source": [
    "- closing a file will free up the resources were tied with the file."
   ]
  },
  {
   "cell_type": "code",
   "execution_count": 27,
   "id": "480932be",
   "metadata": {},
   "outputs": [],
   "source": [
    "file2.close()"
   ]
  },
  {
   "cell_type": "code",
   "execution_count": 26,
   "id": "af7c9a20",
   "metadata": {},
   "outputs": [],
   "source": [
    "file1.close()"
   ]
  },
  {
   "cell_type": "markdown",
   "id": "56a15e1c",
   "metadata": {},
   "source": [
    "# Exception Handling in files:"
   ]
  },
  {
   "cell_type": "markdown",
   "id": "68d28e02",
   "metadata": {},
   "source": [
    "Syntax: \n",
    "    \n",
    "try:\n",
    "\n",
    "    // code block\n",
    "    \n",
    "finally:\n",
    "\n",
    "    //close operation of file"
   ]
  },
  {
   "cell_type": "code",
   "execution_count": 30,
   "id": "141d7d28",
   "metadata": {},
   "outputs": [
    {
     "name": "stdout",
     "output_type": "stream",
     "text": [
      "I eat an apple. This file is not at jupyter notebbok directory location.\n"
     ]
    }
   ],
   "source": [
    "try:\n",
    "    file2 = open(\"C:/Users/SHIKHA/Downloads/abc.txt\", 'r')\n",
    "    read_content = file2.read()\n",
    "    print(read_content)\n",
    "\n",
    "finally:\n",
    "    file2.close()"
   ]
  },
  {
   "cell_type": "markdown",
   "id": "015185b7",
   "metadata": {},
   "source": [
    "# use of with open syntax:"
   ]
  },
  {
   "cell_type": "code",
   "execution_count": 32,
   "id": "25cee33e",
   "metadata": {},
   "outputs": [
    {
     "name": "stdout",
     "output_type": "stream",
     "text": [
      "I eat an apple. This file is not at jupyter notebbok directory location.\n",
      "with open executed\n"
     ]
    }
   ],
   "source": [
    "with open(\"C:/Users/SHIKHA/Downloads/abc.txt\", 'r') as file2:\n",
    "    read_content = file2.read()\n",
    "    print(read_content)\n",
    "    \n",
    "print(\"with open executed\")"
   ]
  },
  {
   "cell_type": "markdown",
   "id": "35985d7d",
   "metadata": {},
   "source": [
    "# Writing to files in Python:\n"
   ]
  },
  {
   "cell_type": "markdown",
   "id": "826212cd",
   "metadata": {},
   "source": [
    "2 things to remember:\n",
    "    "
   ]
  },
  {
   "cell_type": "code",
   "execution_count": 34,
   "id": "1827f3c0",
   "metadata": {},
   "outputs": [],
   "source": [
    "with open('xyz.txt', 'w') as file_obj:\n",
    "    file_obj.write('This is my implementation of writing to files in Python')\n",
    "    file_obj.write(\"\\n This is second line\")\n",
    "    "
   ]
  },
  {
   "cell_type": "markdown",
   "id": "c2310b65",
   "metadata": {},
   "source": [
    "# Append to a file:"
   ]
  },
  {
   "cell_type": "code",
   "execution_count": 39,
   "id": "8e0f7063",
   "metadata": {},
   "outputs": [],
   "source": [
    "with open(\"fruits.txt\", 'a') as fp:\n",
    "    fp.write(\"\\n cheery\")"
   ]
  },
  {
   "cell_type": "code",
   "execution_count": null,
   "id": "2ab1b7c2",
   "metadata": {},
   "outputs": [],
   "source": []
  },
  {
   "cell_type": "markdown",
   "id": "74edb73d",
   "metadata": {},
   "source": [
    "# Write list to a file in Python:"
   ]
  },
  {
   "cell_type": "code",
   "execution_count": 37,
   "id": "b3054d6d",
   "metadata": {},
   "outputs": [
    {
     "name": "stdout",
     "output_type": "stream",
     "text": [
      "Done\n"
     ]
    }
   ],
   "source": [
    "fruits_name = [\"apple\", \"banana\"]\n",
    "\n",
    "with open(\"fruits.txt\", 'w') as fp:                                #file pointer\n",
    "    for items in fruits_name:\n",
    "        fp.write(\"%s \\n\" % items)\n",
    "    print(\"Done\")"
   ]
  },
  {
   "cell_type": "markdown",
   "id": "c27ef5be",
   "metadata": {},
   "source": [
    "# Python program to get line count of a file"
   ]
  },
  {
   "cell_type": "code",
   "execution_count": null,
   "id": "57b7631f",
   "metadata": {},
   "outputs": [],
   "source": [
    "# with open(\"fruits.txt\") as fp:\n",
    "    i = 0\n",
    "    for item in enumerate(fp):\n",
    "        i += 1\n",
    "    print(i)"
   ]
  },
  {
   "cell_type": "markdown",
   "id": "03e0907a",
   "metadata": {},
   "source": [
    "# Program to read line by line into a list\n"
   ]
  },
  {
   "cell_type": "code",
   "execution_count": 43,
   "id": "1a72f18c",
   "metadata": {},
   "outputs": [
    {
     "name": "stdout",
     "output_type": "stream",
     "text": [
      "['I eat an apple. This is a red apple.\\n', 'I eat a mango. This is a yellow apple.']\n"
     ]
    }
   ],
   "source": [
    "with open(\"abc.txt\") as f:\n",
    "    content_list = f.readlines()\n",
    "    \n",
    "print(content_list)\n"
   ]
  },
  {
   "cell_type": "code",
   "execution_count": 47,
   "id": "05bd1652",
   "metadata": {},
   "outputs": [
    {
     "name": "stdout",
     "output_type": "stream",
     "text": [
      "I eat an apple. This is a red apple.\n",
      "I eat a mango. This is a yellow apple.\n"
     ]
    }
   ],
   "source": [
    "with open(\"abc.txt\") as f:\n",
    "    content = f.read()\n",
    "    \n",
    "print(content)\n"
   ]
  },
  {
   "cell_type": "code",
   "execution_count": 50,
   "id": "e2d51081",
   "metadata": {},
   "outputs": [
    {
     "name": "stdout",
     "output_type": "stream",
     "text": [
      "t\n"
     ]
    }
   ],
   "source": [
    "if 'b' > 'a':\n",
    "    print(\"t\")\n",
    "else:\n",
    "    print(\"f\")"
   ]
  },
  {
   "cell_type": "code",
   "execution_count": null,
   "id": "1fbc9c60",
   "metadata": {},
   "outputs": [],
   "source": []
  }
 ],
 "metadata": {
  "kernelspec": {
   "display_name": "Python 3 (ipykernel)",
   "language": "python",
   "name": "python3"
  },
  "language_info": {
   "codemirror_mode": {
    "name": "ipython",
    "version": 3
   },
   "file_extension": ".py",
   "mimetype": "text/x-python",
   "name": "python",
   "nbconvert_exporter": "python",
   "pygments_lexer": "ipython3",
   "version": "3.9.13"
  }
 },
 "nbformat": 4,
 "nbformat_minor": 5
}
