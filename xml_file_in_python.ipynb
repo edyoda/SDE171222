{
 "cells": [
  {
   "cell_type": "markdown",
   "id": "de683b05",
   "metadata": {},
   "source": [
    "# XML(Extensible Markup Language)"
   ]
  },
  {
   "cell_type": "markdown",
   "id": "8edc2811",
   "metadata": {},
   "source": [
    "# Reading an XML file"
   ]
  },
  {
   "cell_type": "code",
   "execution_count": 1,
   "id": "ffa088c0",
   "metadata": {},
   "outputs": [],
   "source": [
    "with open('sample_xml.xml', 'r') as file:\n",
    "    data = file.read()"
   ]
  },
  {
   "cell_type": "code",
   "execution_count": 2,
   "id": "8cae6df1",
   "metadata": {},
   "outputs": [
    {
     "name": "stdout",
     "output_type": "stream",
     "text": [
      "<note>\n",
      "<to>Tove</to>\n",
      "<from>Jani</from>\n",
      "<heading>Reminder</heading>\n",
      "<body>Don't forget me this weekend!</body>\n",
      "</note>\n",
      "\n"
     ]
    }
   ],
   "source": [
    "print(data)"
   ]
  },
  {
   "cell_type": "markdown",
   "id": "5aa07ab6",
   "metadata": {},
   "source": [
    "# Writing an XML file"
   ]
  },
  {
   "cell_type": "code",
   "execution_count": 10,
   "id": "16be85fd",
   "metadata": {},
   "outputs": [],
   "source": [
    "from bs4 import BeautifulSoup"
   ]
  },
  {
   "cell_type": "code",
   "execution_count": 11,
   "id": "bdd739e9",
   "metadata": {},
   "outputs": [],
   "source": [
    "with open('sample_xml.xml', 'r') as file:\n",
    "    data = file.read()"
   ]
  },
  {
   "cell_type": "code",
   "execution_count": 12,
   "id": "c487268c",
   "metadata": {},
   "outputs": [],
   "source": [
    "bs_data = BeautifulSoup(data, 'xml')"
   ]
  },
  {
   "cell_type": "code",
   "execution_count": 13,
   "id": "71bed327",
   "metadata": {},
   "outputs": [],
   "source": [
    "for tag in bs_data.find_all('body'):\n",
    "    tag['to'] = \"Changed tag\""
   ]
  },
  {
   "cell_type": "code",
   "execution_count": 14,
   "id": "ff34435e",
   "metadata": {},
   "outputs": [
    {
     "name": "stdout",
     "output_type": "stream",
     "text": [
      "<?xml version=\"1.0\" encoding=\"utf-8\"?>\n",
      "<note>\n",
      " <to>\n",
      "  Tove\n",
      " </to>\n",
      " <from>\n",
      "  Jani\n",
      " </from>\n",
      " <heading>\n",
      "  Reminder\n",
      " </heading>\n",
      " <body to=\"Changed tag\">\n",
      "  Don't forget me this weekend!\n",
      " </body>\n",
      "</note>\n"
     ]
    }
   ],
   "source": [
    "print(bs_data.prettify())"
   ]
  },
  {
   "cell_type": "code",
   "execution_count": null,
   "id": "a2a55999",
   "metadata": {},
   "outputs": [],
   "source": []
  }
 ],
 "metadata": {
  "kernelspec": {
   "display_name": "Python 3 (ipykernel)",
   "language": "python",
   "name": "python3"
  },
  "language_info": {
   "codemirror_mode": {
    "name": "ipython",
    "version": 3
   },
   "file_extension": ".py",
   "mimetype": "text/x-python",
   "name": "python",
   "nbconvert_exporter": "python",
   "pygments_lexer": "ipython3",
   "version": "3.8.10"
  }
 },
 "nbformat": 4,
 "nbformat_minor": 5
}
