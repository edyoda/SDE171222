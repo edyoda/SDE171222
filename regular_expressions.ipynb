{
 "cells": [
  {
   "cell_type": "code",
   "execution_count": 1,
   "id": "80570015",
   "metadata": {},
   "outputs": [],
   "source": [
    "import re"
   ]
  },
  {
   "cell_type": "markdown",
   "id": "c8a07611",
   "metadata": {},
   "source": [
    "- A RegEx, or Regular Expression, is a sequence of characters that form a search pattern.\n",
    "- It is used to check if a string contains the specified search pattern"
   ]
  },
  {
   "cell_type": "markdown",
   "id": "dad69e1c",
   "metadata": {},
   "source": [
    "# Special sequences"
   ]
  },
  {
   "cell_type": "markdown",
   "id": "3062a735",
   "metadata": {},
   "source": [
    "# \\A "
   ]
  },
  {
   "cell_type": "markdown",
   "id": "b520548a",
   "metadata": {},
   "source": [
    "- matches if the specified character/s is present at the beginning of the string"
   ]
  },
  {
   "cell_type": "code",
   "execution_count": 32,
   "id": "5cef41cb",
   "metadata": {},
   "outputs": [
    {
     "name": "stdout",
     "output_type": "stream",
     "text": [
      "[\"It's\"]\n"
     ]
    }
   ],
   "source": [
    "txt = \"It's raining outside\"\n",
    "x = re.findall(\"\\AIt's\", txt)\n",
    "print(x)"
   ]
  },
  {
   "cell_type": "code",
   "execution_count": 33,
   "id": "74cd0c83",
   "metadata": {},
   "outputs": [
    {
     "name": "stdout",
     "output_type": "stream",
     "text": [
      "[]\n"
     ]
    }
   ],
   "source": [
    "txt = \"It's raining outside\"\n",
    "x = re.findall(\"\\Aout\", txt)\n",
    "print(x)"
   ]
  },
  {
   "cell_type": "markdown",
   "id": "c9c73946",
   "metadata": {},
   "source": [
    "# ^"
   ]
  },
  {
   "cell_type": "markdown",
   "id": "099e9e75",
   "metadata": {},
   "source": [
    "- if the string starts with the specified sequence"
   ]
  },
  {
   "cell_type": "code",
   "execution_count": 34,
   "id": "8e10c7c3",
   "metadata": {},
   "outputs": [
    {
     "name": "stdout",
     "output_type": "stream",
     "text": [
      "[\"It's\"]\n"
     ]
    }
   ],
   "source": [
    "txt = \"It's raining outside\"\n",
    "x = re.findall(\"^It's\", txt)\n",
    "print(x)"
   ]
  },
  {
   "cell_type": "code",
   "execution_count": 35,
   "id": "15879093",
   "metadata": {},
   "outputs": [
    {
     "name": "stdout",
     "output_type": "stream",
     "text": [
      "[]\n"
     ]
    }
   ],
   "source": [
    "txt = \"It's raining outside\"\n",
    "x = re.findall(\"^ It's\", txt)\n",
    "print(x)"
   ]
  },
  {
   "cell_type": "markdown",
   "id": "b7726ac8",
   "metadata": {},
   "source": [
    "#  $"
   ]
  },
  {
   "cell_type": "code",
   "execution_count": null,
   "id": "d683b2d1",
   "metadata": {},
   "outputs": [],
   "source": [
    "- if the string ends with the specified sequence"
   ]
  },
  {
   "cell_type": "code",
   "execution_count": 37,
   "id": "b68ec216",
   "metadata": {},
   "outputs": [
    {
     "name": "stdout",
     "output_type": "stream",
     "text": [
      "[]\n"
     ]
    }
   ],
   "source": [
    "txt = \"It's raining outside\"\n",
    "x = re.findall(\"side$\", txt)\n",
    "print(x)"
   ]
  },
  {
   "cell_type": "markdown",
   "id": "101f96be",
   "metadata": {},
   "source": [
    "# *"
   ]
  },
  {
   "cell_type": "code",
   "execution_count": 45,
   "id": "0e708cd9",
   "metadata": {},
   "outputs": [
    {
     "name": "stdout",
     "output_type": "stream",
     "text": [
      "[]\n"
     ]
    }
   ],
   "source": [
    "txt = \"Hello world\"\n",
    "x = re.findall(\"he.*o\", txt)\n",
    "print(x)"
   ]
  },
  {
   "cell_type": "markdown",
   "id": "bfc383b9",
   "metadata": {},
   "source": [
    "# |"
   ]
  },
  {
   "cell_type": "markdown",
   "id": "6ae1ec3c",
   "metadata": {},
   "source": [
    "- either or"
   ]
  },
  {
   "cell_type": "code",
   "execution_count": 46,
   "id": "999c20c0",
   "metadata": {},
   "outputs": [
    {
     "name": "stdout",
     "output_type": "stream",
     "text": [
      "['world']\n"
     ]
    }
   ],
   "source": [
    "txt = \"Hello world how are you\"\n",
    "x = re.findall(\"world|everyone\", txt)\n",
    "print(x)"
   ]
  },
  {
   "cell_type": "code",
   "execution_count": 47,
   "id": "1b358994",
   "metadata": {},
   "outputs": [
    {
     "name": "stdout",
     "output_type": "stream",
     "text": [
      "[]\n"
     ]
    }
   ],
   "source": [
    "txt = \"Hello world how are you\"\n",
    "x = re.findall(\"worlds|everyone\", txt)\n",
    "print(x)"
   ]
  },
  {
   "cell_type": "markdown",
   "id": "96c5acd5",
   "metadata": {},
   "source": [
    "# \\D"
   ]
  },
  {
   "cell_type": "markdown",
   "id": "23fb706c",
   "metadata": {},
   "source": [
    "- returns a match at every non-digit character"
   ]
  },
  {
   "cell_type": "code",
   "execution_count": 48,
   "id": "93c04e55",
   "metadata": {},
   "outputs": [
    {
     "name": "stdout",
     "output_type": "stream",
     "text": [
      "['H', 'e', 'l', 'l', 'o', ' ', 'w', 'o', 'r', 'l', 'd', ' ', 'h', 'o', 'w', ' ', 'a', 'r', 'e', ' ', 'y', 'o', 'u']\n"
     ]
    }
   ],
   "source": [
    "txt = \"Hello world how are you\"\n",
    "x = re.findall(\"\\D\", txt)\n",
    "print(x)"
   ]
  },
  {
   "cell_type": "markdown",
   "id": "6683cab3",
   "metadata": {},
   "source": [
    "# \\d"
   ]
  },
  {
   "cell_type": "markdown",
   "id": "5abb7d03",
   "metadata": {},
   "source": [
    "- returns match at every digit character"
   ]
  },
  {
   "cell_type": "code",
   "execution_count": 50,
   "id": "91f3f3df",
   "metadata": {},
   "outputs": [
    {
     "name": "stdout",
     "output_type": "stream",
     "text": [
      "['0', '2', '0', '7']\n"
     ]
    }
   ],
   "source": [
    "txt = \"Hello world 0207 how are you \"\n",
    "x = re.findall(\"\\d\", txt)\n",
    "print(x)"
   ]
  },
  {
   "cell_type": "markdown",
   "id": "21f7a77f",
   "metadata": {},
   "source": [
    "# \\s"
   ]
  },
  {
   "cell_type": "markdown",
   "id": "75d66b84",
   "metadata": {},
   "source": [
    "- returns a match at every white-space character"
   ]
  },
  {
   "cell_type": "code",
   "execution_count": 54,
   "id": "077d81f2",
   "metadata": {},
   "outputs": [
    {
     "name": "stdout",
     "output_type": "stream",
     "text": [
      "[' ', ' ', ' ', ' ', ' ', ' ']\n"
     ]
    }
   ],
   "source": [
    "txt = \"Hello world 0207 how are you \"\n",
    "x = re.findall(\"\\s\", txt)\n",
    "print(x)"
   ]
  },
  {
   "cell_type": "markdown",
   "id": "63434177",
   "metadata": {},
   "source": [
    "# \\S"
   ]
  },
  {
   "cell_type": "markdown",
   "id": "ad404c9b",
   "metadata": {},
   "source": [
    "- - returns a match at every non white-space character"
   ]
  },
  {
   "cell_type": "code",
   "execution_count": 56,
   "id": "bee939b7",
   "metadata": {},
   "outputs": [
    {
     "name": "stdout",
     "output_type": "stream",
     "text": [
      "['H', 'e', 'l', 'l', 'o', 'w', 'o', 'r', 'l', 'd', '0', '2', '0', '7', 'h', 'o', 'w', 'a', 'r', 'e', 'y', 'o', 'u']\n"
     ]
    }
   ],
   "source": [
    "txt = \"Hello world 0207 how are you \"\n",
    "x = re.findall(\"\\S\", txt)\n",
    "print(x)"
   ]
  },
  {
   "cell_type": "markdown",
   "id": "b81ae836",
   "metadata": {},
   "source": [
    "# \\w"
   ]
  },
  {
   "cell_type": "markdown",
   "id": "9dab6643",
   "metadata": {},
   "source": [
    "- return a match at every word character(characters from a-z, A-Z, digits from 0-9, and the underscore character)"
   ]
  },
  {
   "cell_type": "code",
   "execution_count": 60,
   "id": "caaf5ee8",
   "metadata": {},
   "outputs": [
    {
     "name": "stdout",
     "output_type": "stream",
     "text": [
      "['H', 'e', 'l', 'l', 'o', 'w', 'o', 'r', 'l', 'd', '0', '2', '0', '7', 'h', 'o', 'w', 'a', 'r', '_', 'e', 'y', 'o', 'u']\n"
     ]
    }
   ],
   "source": [
    "txt = \"Hello world 0207 ho!w ar_e yo@*u \"\n",
    "x = re.findall(\"\\w\", txt)\n",
    "print(x)"
   ]
  },
  {
   "cell_type": "markdown",
   "id": "5e12be5f",
   "metadata": {},
   "source": [
    "# \\W"
   ]
  },
  {
   "cell_type": "markdown",
   "id": "2a5eae17",
   "metadata": {},
   "source": [
    "- return a match at every non- word character(characters from a-z, A-Z, digits from 0-9, and the underscore character)"
   ]
  },
  {
   "cell_type": "code",
   "execution_count": 62,
   "id": "85a6d090",
   "metadata": {},
   "outputs": [
    {
     "name": "stdout",
     "output_type": "stream",
     "text": [
      "[' ', ' ', ' ', '!', ' ', ' ', '@', '*', ' ']\n"
     ]
    }
   ],
   "source": [
    "txt = \"Hello world 0207 ho!w ar_e yo@*u \"\n",
    "x = re.findall(\"\\W\", txt)\n",
    "print(x)"
   ]
  },
  {
   "cell_type": "markdown",
   "id": "b802bb01",
   "metadata": {},
   "source": [
    "# Sets:\n"
   ]
  },
  {
   "cell_type": "markdown",
   "id": "8791fe0f",
   "metadata": {},
   "source": [
    "- checks if the string has any characters between a and n"
   ]
  },
  {
   "cell_type": "code",
   "execution_count": 64,
   "id": "6ffdb2b1",
   "metadata": {},
   "outputs": [
    {
     "name": "stdout",
     "output_type": "stream",
     "text": [
      "['e', 'l', 'l', 'l', 'd', 'n', 'h', 'a', 'e']\n"
     ]
    }
   ],
   "source": [
    "txt = \"Hello world n0207 ho!w ar_e yo@*u \"\n",
    "x = re.findall(\"[a-n]\", txt)\n",
    "print(x)"
   ]
  },
  {
   "cell_type": "code",
   "execution_count": null,
   "id": "c39e3add",
   "metadata": {},
   "outputs": [],
   "source": []
  },
  {
   "cell_type": "markdown",
   "id": "30bebd84",
   "metadata": {},
   "source": [
    "# RegEx functions"
   ]
  },
  {
   "cell_type": "markdown",
   "id": "d5deabce",
   "metadata": {},
   "source": [
    "# findall"
   ]
  },
  {
   "cell_type": "markdown",
   "id": "e3902ff9",
   "metadata": {},
   "source": [
    "- returns a list tht contains all matches\n",
    "- if no match is found, an empty list is returned"
   ]
  },
  {
   "cell_type": "code",
   "execution_count": 2,
   "id": "c9c76b84",
   "metadata": {},
   "outputs": [
    {
     "name": "stdout",
     "output_type": "stream",
     "text": [
      "['ai']\n"
     ]
    }
   ],
   "source": [
    "import re\n",
    "\n",
    "txt = \"Madrid is the capital of Spain\"\n",
    "output = re.findall(\"ai\", txt)\n",
    "print(output)"
   ]
  },
  {
   "cell_type": "code",
   "execution_count": 3,
   "id": "e312397a",
   "metadata": {},
   "outputs": [
    {
     "name": "stdout",
     "output_type": "stream",
     "text": [
      "[]\n"
     ]
    }
   ],
   "source": [
    "txt = \"Madrid is the capital of Spain\"\n",
    "output = re.findall(\"MI\", txt)\n",
    "print(output)"
   ]
  },
  {
   "cell_type": "code",
   "execution_count": 6,
   "id": "33b4ace7",
   "metadata": {},
   "outputs": [
    {
     "name": "stdout",
     "output_type": "stream",
     "text": [
      "['ai', 'ai', 'ai']\n"
     ]
    }
   ],
   "source": [
    "txt = \"Madrid is the capital of Spain. ai is aim dominating field.\"\n",
    "output = re.findall(\"ai\", txt)\n",
    "print(output)"
   ]
  },
  {
   "cell_type": "code",
   "execution_count": 7,
   "id": "f8254f3e",
   "metadata": {},
   "outputs": [
    {
     "name": "stdout",
     "output_type": "stream",
     "text": [
      "['123']\n"
     ]
    }
   ],
   "source": [
    "txt = \"Madrid is the capital of Spain. 12345 ai is aim dominating field.\"\n",
    "output = re.findall(\"123\", txt)\n",
    "print(output)"
   ]
  },
  {
   "cell_type": "code",
   "execution_count": 9,
   "id": "ebd36435",
   "metadata": {},
   "outputs": [
    {
     "name": "stdout",
     "output_type": "stream",
     "text": [
      "['123']\n"
     ]
    }
   ],
   "source": [
    "txt = \"12345\"\n",
    "output = re.findall(\"123\", txt)\n",
    "print(output)"
   ]
  },
  {
   "cell_type": "markdown",
   "id": "4f683289",
   "metadata": {},
   "source": [
    "# search()"
   ]
  },
  {
   "cell_type": "markdown",
   "id": "eab2eae3",
   "metadata": {},
   "source": [
    "- it searches the string for a match, and returns a matchobject if there is a match\n",
    "- if no matches are found, it returns None\n",
    "- if there is more than 1 match, only the first occurrence of that match will be returned"
   ]
  },
  {
   "cell_type": "code",
   "execution_count": 12,
   "id": "9c426a1d",
   "metadata": {},
   "outputs": [
    {
     "name": "stdout",
     "output_type": "stream",
     "text": [
      "<re.Match object; span=(6, 7), match=' '>\n"
     ]
    },
    {
     "data": {
      "text/plain": [
       "6"
      ]
     },
     "execution_count": 12,
     "metadata": {},
     "output_type": "execute_result"
    }
   ],
   "source": [
    "txt = \"Madrid is the capital of Spain. 12345 ai is aim dominating field.\"\n",
    "output = re.search(\"\\s\", txt)\n",
    "print(output)\n",
    "output.start()"
   ]
  },
  {
   "cell_type": "code",
   "execution_count": 14,
   "id": "7046f9cd",
   "metadata": {},
   "outputs": [
    {
     "name": "stdout",
     "output_type": "stream",
     "text": [
      "None\n"
     ]
    },
    {
     "ename": "AttributeError",
     "evalue": "'NoneType' object has no attribute 'start'",
     "output_type": "error",
     "traceback": [
      "\u001b[1;31m---------------------------------------------------------------------------\u001b[0m",
      "\u001b[1;31mAttributeError\u001b[0m                            Traceback (most recent call last)",
      "Cell \u001b[1;32mIn[14], line 4\u001b[0m\n\u001b[0;32m      2\u001b[0m output \u001b[38;5;241m=\u001b[39m re\u001b[38;5;241m.\u001b[39msearch(\u001b[38;5;124m\"\u001b[39m\u001b[38;5;124m\\\u001b[39m\u001b[38;5;124ms\u001b[39m\u001b[38;5;124m\"\u001b[39m, txt)\n\u001b[0;32m      3\u001b[0m \u001b[38;5;28mprint\u001b[39m(output)\n\u001b[1;32m----> 4\u001b[0m \u001b[43moutput\u001b[49m\u001b[38;5;241;43m.\u001b[39;49m\u001b[43mstart\u001b[49m()\n",
      "\u001b[1;31mAttributeError\u001b[0m: 'NoneType' object has no attribute 'start'"
     ]
    }
   ],
   "source": [
    "txt = \"Madrid\"\n",
    "output = re.search(\"\\s\", txt)\n",
    "print(output)\n",
    "output.start()"
   ]
  },
  {
   "cell_type": "markdown",
   "id": "a26eb15b",
   "metadata": {},
   "source": [
    "# split()"
   ]
  },
  {
   "cell_type": "markdown",
   "id": "8afc9d24",
   "metadata": {},
   "source": [
    "- this returns a list where the split has been split at each match\n"
   ]
  },
  {
   "cell_type": "code",
   "execution_count": 15,
   "id": "a23d5c6b",
   "metadata": {},
   "outputs": [
    {
     "name": "stdout",
     "output_type": "stream",
     "text": [
      "['Madrid', 'is', 'the', 'capital', 'of', 'Spain.', '12345', 'ai', 'is', 'aim', 'dominating', 'field.']\n"
     ]
    }
   ],
   "source": [
    "txt = \"Madrid is the capital of Spain. 12345 ai is aim dominating field.\"\n",
    "output = re.split(\"\\s\", txt)\n",
    "print(output)"
   ]
  },
  {
   "cell_type": "code",
   "execution_count": 17,
   "id": "b0340a5c",
   "metadata": {},
   "outputs": [
    {
     "name": "stdout",
     "output_type": "stream",
     "text": [
      "['M@drid is the capital of Sp@in. 12345 ', 'i is @im domin@ting field.']\n"
     ]
    }
   ],
   "source": [
    "txt = \"M@drid is the capital of Sp@in. 12345 @!i is @im domin@ting field.\"\n",
    "output = re.split(\"@!\", txt)\n",
    "print(output)"
   ]
  },
  {
   "cell_type": "code",
   "execution_count": 19,
   "id": "d1949ec8",
   "metadata": {},
   "outputs": [
    {
     "name": "stdout",
     "output_type": "stream",
     "text": [
      "['M', 'drid is the capital of Sp', 'in. 12345 ', 'i is ', 'im domin', 'ting field.']\n"
     ]
    }
   ],
   "source": [
    "txt = \"M@drid is the capital of Sp@in. 12345 @i is @im domin@ting field.\"\n",
    "output = re.split(\"@\", txt)\n",
    "print(output)"
   ]
  },
  {
   "cell_type": "markdown",
   "id": "4f2a7ef5",
   "metadata": {},
   "source": [
    "defining maxsplit to control the number of occurrences by specifying the maxsplit parameter."
   ]
  },
  {
   "cell_type": "code",
   "execution_count": 20,
   "id": "1d836c4c",
   "metadata": {},
   "outputs": [
    {
     "name": "stdout",
     "output_type": "stream",
     "text": [
      "['M', 'drid is the capital of Sp', 'in. 12345 ', 'i is @im domin@ting field.']\n"
     ]
    }
   ],
   "source": [
    "txt = \"M@drid is the capital of Sp@in. 12345 @i is @im domin@ting field.\"\n",
    "output = re.split(\"@\", txt, 3)\n",
    "print(output)"
   ]
  },
  {
   "cell_type": "code",
   "execution_count": 24,
   "id": "6fe7fe50",
   "metadata": {},
   "outputs": [
    {
     "name": "stdout",
     "output_type": "stream",
     "text": [
      "['i eat an apple dails at ', '0am']\n"
     ]
    }
   ],
   "source": [
    "import re\n",
    "s=\"i eat an apple dails at 10am\"\n",
    "output=re.split(\"1\",s)\n",
    "print(output)"
   ]
  },
  {
   "cell_type": "markdown",
   "id": "53110fa4",
   "metadata": {},
   "source": [
    "# sub()"
   ]
  },
  {
   "cell_type": "markdown",
   "id": "8e0c4852",
   "metadata": {},
   "source": [
    "- this function replaces the match with the text of your choice"
   ]
  },
  {
   "cell_type": "code",
   "execution_count": 25,
   "id": "e0d47c13",
   "metadata": {},
   "outputs": [
    {
     "name": "stdout",
     "output_type": "stream",
     "text": [
      "i eat an apple dails at 00am\n"
     ]
    }
   ],
   "source": [
    "s=\"i eat an apple dails at 10am\"\n",
    "output = re.sub(\"1\", \"0\", s)\n",
    "print(output)"
   ]
  },
  {
   "cell_type": "code",
   "execution_count": 26,
   "id": "be81eb9d",
   "metadata": {},
   "outputs": [
    {
     "name": "stdout",
     "output_type": "stream",
     "text": [
      "i@eat@an@apple@dails@at@10am\n"
     ]
    }
   ],
   "source": [
    "s=\"i eat an apple dails at 10am\"\n",
    "output = re.sub(\"\\s\", \"@\", s)\n",
    "print(output)"
   ]
  },
  {
   "cell_type": "markdown",
   "id": "3d653229",
   "metadata": {},
   "source": [
    "- we can control the number of replacements by specifying by specifying count parameter"
   ]
  },
  {
   "cell_type": "code",
   "execution_count": 27,
   "id": "c45e2c75",
   "metadata": {},
   "outputs": [
    {
     "name": "stdout",
     "output_type": "stream",
     "text": [
      "i@eat@an@apple dails at 10am\n"
     ]
    }
   ],
   "source": [
    "s=\"i eat an apple dails at 10am\"\n",
    "output = re.sub(\"\\s\", \"@\", s, 3)\n",
    "print(output)"
   ]
  },
  {
   "cell_type": "markdown",
   "id": "3fe5012b",
   "metadata": {},
   "source": [
    "# Regex"
   ]
  },
  {
   "cell_type": "code",
   "execution_count": 2,
   "id": "45542f49",
   "metadata": {},
   "outputs": [],
   "source": [
    "import re"
   ]
  },
  {
   "cell_type": "code",
   "execution_count": 5,
   "id": "fadb80a4",
   "metadata": {},
   "outputs": [
    {
     "name": "stdout",
     "output_type": "stream",
     "text": [
      "['Python']\n",
      "['Python']\n"
     ]
    }
   ],
   "source": [
    "s = \"Python is a programming language\"\n",
    "\n",
    "text_to_be_matched_at_beginning = \"Python\"\n",
    "text_to_be_matched_at_end = \"Python\"\n",
    "find_presence_of_string1 = \"programming\"\n",
    "find_presence_of_string2 = \"Programming\"\n",
    "\n",
    "pattern = re.findall(\"\\APython\", s)\n",
    "print(pattern)\n",
    "\n",
    "pattern = re.findall(\"^Python\", s)\n",
    "print(pattern)"
   ]
  },
  {
   "cell_type": "code",
   "execution_count": 7,
   "id": "b3365d50",
   "metadata": {},
   "outputs": [
    {
     "name": "stdout",
     "output_type": "stream",
     "text": [
      "[]\n"
     ]
    }
   ],
   "source": [
    "pattern = re.findall(\"Python$\", s)\n",
    "print(pattern)"
   ]
  },
  {
   "cell_type": "code",
   "execution_count": 10,
   "id": "00d324da",
   "metadata": {},
   "outputs": [
    {
     "name": "stdout",
     "output_type": "stream",
     "text": [
      "['programming ']\n",
      "one of the strings present\n"
     ]
    }
   ],
   "source": [
    "pattern = re.findall(\"programming | Programming\", s)\n",
    "print(pattern)\n",
    "\n",
    "# if len(pattern) > 0:\n",
    "if pattern:\n",
    "    print(\"one of the strings present\")"
   ]
  },
  {
   "cell_type": "code",
   "execution_count": 9,
   "id": "bc0f131b",
   "metadata": {},
   "outputs": [
    {
     "name": "stdout",
     "output_type": "stream",
     "text": [
      "f\n"
     ]
    }
   ],
   "source": [
    "l = []\n",
    "if l:\n",
    "    print(\"t\")\n",
    "else:\n",
    "    print(\"f\")"
   ]
  },
  {
   "cell_type": "code",
   "execution_count": 12,
   "id": "e6155641",
   "metadata": {},
   "outputs": [
    {
     "name": "stdout",
     "output_type": "stream",
     "text": [
      "['i', '', '', 'i', '', '', '', '', '', '', '', '', '', '', '', '', '', '', '', 'i', '', '', '', '']\n",
      "3\n"
     ]
    }
   ],
   "source": [
    "txt = \"it is a very cold night\"\n",
    "\n",
    "count_occurrences_of_letter = \"i\"\n",
    "\n",
    "pattern = re.findall(\"i*\", txt)\n",
    "print(pattern)\n",
    "\n",
    "count = 0\n",
    "for item in pattern:\n",
    "    if item == \"i\":\n",
    "        count += 1\n",
    "        \n",
    "print(count)"
   ]
  },
  {
   "cell_type": "markdown",
   "id": "a8ed9ef7",
   "metadata": {},
   "source": [
    "# Write a Python program to check that a string contains only defined set of characters which are:\n",
    "    (a-z, A-Z or 0-9)"
   ]
  },
  {
   "cell_type": "code",
   "execution_count": null,
   "id": "22f8af87",
   "metadata": {},
   "outputs": [],
   "source": [
    "[^a-zA-Z0-9]"
   ]
  },
  {
   "cell_type": "markdown",
   "id": "5017b633",
   "metadata": {},
   "source": [
    "re.compile():\n",
    "    \n",
    "- is used to compile a regular expression pattern provided as a string\n",
    "\n",
    "re.compile(r'[^a-zA-Z0-9]')"
   ]
  },
  {
   "cell_type": "code",
   "execution_count": 16,
   "id": "f78556a6",
   "metadata": {},
   "outputs": [
    {
     "name": "stdout",
     "output_type": "stream",
     "text": [
      "True\n"
     ]
    }
   ],
   "source": [
    "s = \"thisisastringwithoutspaces\"\n",
    "regex_pattern = re.compile(r'[^a-zA-Z0-9]')\n",
    "output = regex_pattern.search(s)\n",
    "print(not(bool(output)))"
   ]
  },
  {
   "cell_type": "code",
   "execution_count": 17,
   "id": "a66b282b",
   "metadata": {},
   "outputs": [],
   "source": [
    "def check_string(s):\n",
    "    regex_pattern = re.compile(r'[^a-zA-Z0-9]')\n",
    "    output = regex_pattern.search(s)\n",
    "    return(not(bool(output)))"
   ]
  },
  {
   "cell_type": "code",
   "execution_count": 18,
   "id": "4354c8ea",
   "metadata": {},
   "outputs": [
    {
     "data": {
      "text/plain": [
       "True"
      ]
     },
     "execution_count": 18,
     "metadata": {},
     "output_type": "execute_result"
    }
   ],
   "source": [
    "check_string(\"thisisastringwithoutspaces\")"
   ]
  },
  {
   "cell_type": "code",
   "execution_count": 19,
   "id": "e8feda86",
   "metadata": {},
   "outputs": [
    {
     "data": {
      "text/plain": [
       "False"
      ]
     },
     "execution_count": 19,
     "metadata": {},
     "output_type": "execute_result"
    }
   ],
   "source": [
    "check_string(\"This is a string with spaces\")"
   ]
  },
  {
   "cell_type": "code",
   "execution_count": 20,
   "id": "1e82a80a",
   "metadata": {},
   "outputs": [],
   "source": [
    "s = \"thisisastringwithoutspaces\"\n",
    "\n",
    "flag = 0\n",
    "for i in s:\n",
    "    if i!=i.isdigit() or i!=i.isalpha():\n",
    "        print(\"invalid string\")\n",
    "        break\n",
    "    else:\n",
    "        continue\n",
    "        \n",
    "\n",
    "l = ['a', 'b', 'c', 'A', 'B', 'C', 0, 1, 2, 3]\n",
    "\n",
    "for i in s:\n",
    "    if i is not in l:\n",
    "        print(\"inavlid string\")"
   ]
  },
  {
   "cell_type": "code",
   "execution_count": 22,
   "id": "33286d7d",
   "metadata": {},
   "outputs": [
    {
     "name": "stdout",
     "output_type": "stream",
     "text": [
      "['This', 'is', 'a', 'string']\n"
     ]
    }
   ],
   "source": [
    "s = \"This@is@a@string\"\n",
    "output = re.split(\"@\",s)\n",
    "print(output)"
   ]
  },
  {
   "cell_type": "code",
   "execution_count": 25,
   "id": "ff5de899",
   "metadata": {},
   "outputs": [
    {
     "name": "stdout",
     "output_type": "stream",
     "text": [
      "2\n"
     ]
    }
   ],
   "source": [
    "s = \"This is a string with spaces\"\n",
    "# set_to_be_matched = [ijlm]\n",
    "\n",
    "#TODO: What is output meaning\n",
    "output = re.search(\"[ijlm]\",s)\n",
    "print(output.start())"
   ]
  },
  {
   "cell_type": "code",
   "execution_count": 27,
   "id": "1d2512c4",
   "metadata": {},
   "outputs": [
    {
     "name": "stdout",
     "output_type": "stream",
     "text": [
      "['i', 'i', 'i', 'i']\n"
     ]
    }
   ],
   "source": [
    "output = re.findall(\"[ijlm]\", s)\n",
    "print(output)"
   ]
  },
  {
   "cell_type": "markdown",
   "id": "df9011ea",
   "metadata": {},
   "source": [
    "# Write a program to find sequences of lowercase letters joined with underscore"
   ]
  },
  {
   "cell_type": "code",
   "execution_count": 34,
   "id": "7d6cf35f",
   "metadata": {},
   "outputs": [],
   "source": [
    "s = \"adfdfdf_gfgfdg_gfdg\"\n",
    "s2 = \"fdgd_fdbd_tyy_\""
   ]
  },
  {
   "cell_type": "code",
   "execution_count": 35,
   "id": "8ddc14d3",
   "metadata": {},
   "outputs": [],
   "source": [
    "pattern = '^[a-z]+_[a-z]+$'"
   ]
  },
  {
   "cell_type": "code",
   "execution_count": 36,
   "id": "2fb3bee4",
   "metadata": {},
   "outputs": [
    {
     "name": "stdout",
     "output_type": "stream",
     "text": [
      "Invalid string\n"
     ]
    }
   ],
   "source": [
    "if re.search(pattern, s):\n",
    "    print(\"Valid string\")\n",
    "else:\n",
    "    print(\"Invalid string\")"
   ]
  },
  {
   "cell_type": "code",
   "execution_count": null,
   "id": "36e6f283",
   "metadata": {},
   "outputs": [],
   "source": []
  }
 ],
 "metadata": {
  "kernelspec": {
   "display_name": "Python 3 (ipykernel)",
   "language": "python",
   "name": "python3"
  },
  "language_info": {
   "codemirror_mode": {
    "name": "ipython",
    "version": 3
   },
   "file_extension": ".py",
   "mimetype": "text/x-python",
   "name": "python",
   "nbconvert_exporter": "python",
   "pygments_lexer": "ipython3",
   "version": "3.9.13"
  }
 },
 "nbformat": 4,
 "nbformat_minor": 5
}
