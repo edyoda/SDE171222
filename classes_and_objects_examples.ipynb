{
 "cells": [
  {
   "cell_type": "markdown",
   "id": "a251183c",
   "metadata": {},
   "source": [
    "# Define a Python fclass Student. Using function attributes dispay the names of all arguments."
   ]
  },
  {
   "cell_type": "code",
   "execution_count": 1,
   "id": "27989901",
   "metadata": {},
   "outputs": [
    {
     "data": {
      "text/plain": [
       "(12, 'Abc')"
      ]
     },
     "execution_count": 1,
     "metadata": {},
     "output_type": "execute_result"
    }
   ],
   "source": [
    "def student(student_id, student_name):\n",
    "    return (student_id, student_name)\n",
    "\n",
    "student(12, \"Abc\")"
   ]
  },
  {
   "cell_type": "code",
   "execution_count": 2,
   "id": "6642e723",
   "metadata": {},
   "outputs": [],
   "source": [
    "class Student: \n",
    "    def __init__(self,name,id): \n",
    "        self.name = name \n",
    "        self.id = id \n",
    "    def display(self): \n",
    "        return 'student name: {} '.format(self.name)+ ' student id: {} '.format(self.id) "
   ]
  },
  {
   "cell_type": "code",
   "execution_count": 3,
   "id": "c2604282",
   "metadata": {},
   "outputs": [
    {
     "data": {
      "text/plain": [
       "'student name: abc  student id: 12 '"
      ]
     },
     "execution_count": 3,
     "metadata": {},
     "output_type": "execute_result"
    }
   ],
   "source": [
    "stud = Student(\"abc\", 12)\n",
    "stud.display()"
   ]
  },
  {
   "cell_type": "markdown",
   "id": "8607abac",
   "metadata": {},
   "source": [
    "# Crate a Vehicle class without any variables and methods"
   ]
  },
  {
   "cell_type": "code",
   "execution_count": 24,
   "id": "000cd537",
   "metadata": {},
   "outputs": [],
   "source": [
    "class Vehicle:\n",
    "    def __init__(self):\n",
    "        self.color = \"white\"\n",
    "    \n",
    "    def return_color(self):\n",
    "        return self.color"
   ]
  },
  {
   "cell_type": "code",
   "execution_count": 25,
   "id": "31de4a2b",
   "metadata": {},
   "outputs": [
    {
     "data": {
      "text/plain": [
       "'white'"
      ]
     },
     "execution_count": 25,
     "metadata": {},
     "output_type": "execute_result"
    }
   ],
   "source": [
    "v = Vehicle()\n",
    "v.return_color()"
   ]
  },
  {
   "cell_type": "code",
   "execution_count": 26,
   "id": "e5a40078",
   "metadata": {},
   "outputs": [
    {
     "data": {
      "text/plain": [
       "'white'"
      ]
     },
     "execution_count": 26,
     "metadata": {},
     "output_type": "execute_result"
    }
   ],
   "source": [
    "# accessing class variable outside of class\n",
    "v.color"
   ]
  },
  {
   "cell_type": "code",
   "execution_count": 45,
   "id": "d723de17",
   "metadata": {},
   "outputs": [],
   "source": [
    "class ABC:\n",
    "    \n",
    "    def __init__(self, name):\n",
    "        self.name = name\n",
    "        \n",
    "    def print(self):\n",
    "        return self.name\n",
    "    \n",
    "class XYZ:\n",
    "    def __init__(self, id):\n",
    "        self.id = id\n",
    "        \n",
    "    def print(self):\n",
    "        return \"Hello\"\n",
    "        \n",
    "class MNO(ABC, XYZ):\n",
    "    \n",
    "    def __init__(self, name, id):\n",
    "        self.name = name\n",
    "        self.id = id\n",
    "        pass\n"
   ]
  },
  {
   "cell_type": "code",
   "execution_count": 46,
   "id": "8631b983",
   "metadata": {},
   "outputs": [
    {
     "data": {
      "text/plain": [
       "'we'"
      ]
     },
     "execution_count": 46,
     "metadata": {},
     "output_type": "execute_result"
    }
   ],
   "source": [
    "mno_obj = MNO(\"we\", 12)\n",
    "mno_obj.print()\n"
   ]
  },
  {
   "cell_type": "code",
   "execution_count": 50,
   "id": "4a3871b8",
   "metadata": {},
   "outputs": [
    {
     "name": "stdout",
     "output_type": "stream",
     "text": [
      "In class4\n",
      "In class2\n",
      "In class3\n",
      "In class1\n"
     ]
    }
   ],
   "source": [
    "class Class1:\n",
    "    def m(self):\n",
    "        print(\"In class1\")\n",
    "        \n",
    "class Class2(Class1):\n",
    "    def m(self):\n",
    "        print(\"In class2\")\n",
    "\n",
    "class Class3(Class1):\n",
    "    def m(self):\n",
    "        print(\"In class3\")\n",
    "        \n",
    "class Class4(Class2, Class3):\n",
    "    def m(self):\n",
    "        print(\"In class4\")\n",
    "        \n",
    "obj = Class4()\n",
    "obj.m()\n",
    "Class2.m(obj)\n",
    "Class3.m(obj)\n",
    "Class1.m(obj)"
   ]
  },
  {
   "cell_type": "code",
   "execution_count": null,
   "id": "b71f012a",
   "metadata": {},
   "outputs": [],
   "source": []
  }
 ],
 "metadata": {
  "kernelspec": {
   "display_name": "Python 3 (ipykernel)",
   "language": "python",
   "name": "python3"
  },
  "language_info": {
   "codemirror_mode": {
    "name": "ipython",
    "version": 3
   },
   "file_extension": ".py",
   "mimetype": "text/x-python",
   "name": "python",
   "nbconvert_exporter": "python",
   "pygments_lexer": "ipython3",
   "version": "3.8.10"
  }
 },
 "nbformat": 4,
 "nbformat_minor": 5
}
