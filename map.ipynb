{
 "cells": [
  {
   "cell_type": "markdown",
   "id": "54027ab6",
   "metadata": {},
   "source": [
    "# map()"
   ]
  },
  {
   "cell_type": "markdown",
   "id": "d2b84cfc",
   "metadata": {},
   "source": [
    "Syntax:\n",
    "\n",
    "map(function, iterable, ......)\n",
    "\n",
    "- function: a function that performs some action on each item of iterable\n",
    "- iterable: sets, lists, tuple, dict..\n",
    "- .....: we can pass more than one iterable"
   ]
  },
  {
   "cell_type": "markdown",
   "id": "87a38bd8",
   "metadata": {},
   "source": [
    "# Example 1: FInd square of each element in list\n"
   ]
  },
  {
   "cell_type": "code",
   "execution_count": 1,
   "id": "3e83f4e1",
   "metadata": {},
   "outputs": [
    {
     "name": "stdout",
     "output_type": "stream",
     "text": [
      "[4, 16, 36, 64]\n"
     ]
    }
   ],
   "source": [
    "num = [2, 4, 6, 8]\n",
    "\n",
    "def square(elem):\n",
    "    return elem * elem\n",
    "\n",
    "obj = map(square, num)\n",
    "op = list(obj)\n",
    "print(op)"
   ]
  },
  {
   "cell_type": "markdown",
   "id": "5bc3cca2",
   "metadata": {},
   "source": [
    "# Example 2: Increase each alphabet by 1 ASCII value"
   ]
  },
  {
   "cell_type": "code",
   "execution_count": 2,
   "id": "7f4a6ba6",
   "metadata": {},
   "outputs": [
    {
     "name": "stdout",
     "output_type": "stream",
     "text": [
      "97\n"
     ]
    }
   ],
   "source": [
    "alpha = ['a', 'b', 'c']\n",
    "\n",
    "print(ord('a'))"
   ]
  },
  {
   "cell_type": "code",
   "execution_count": 6,
   "id": "581656c9",
   "metadata": {},
   "outputs": [
    {
     "name": "stdout",
     "output_type": "stream",
     "text": [
      "['b', 'c', 'd']\n"
     ]
    }
   ],
   "source": [
    "alpha=['a','b','c']\n",
    "\n",
    "def ascii(alpha):\n",
    "    return chr(ord(alpha)+1)\n",
    "\n",
    "obj = map(ascii,alpha)\n",
    "op = list(obj)\n",
    "print(op)"
   ]
  },
  {
   "cell_type": "code",
   "execution_count": null,
   "id": "b2d8a824",
   "metadata": {},
   "outputs": [],
   "source": []
  }
 ],
 "metadata": {
  "kernelspec": {
   "display_name": "Python 3 (ipykernel)",
   "language": "python",
   "name": "python3"
  },
  "language_info": {
   "codemirror_mode": {
    "name": "ipython",
    "version": 3
   },
   "file_extension": ".py",
   "mimetype": "text/x-python",
   "name": "python",
   "nbconvert_exporter": "python",
   "pygments_lexer": "ipython3",
   "version": "3.9.13"
  }
 },
 "nbformat": 4,
 "nbformat_minor": 5
}
