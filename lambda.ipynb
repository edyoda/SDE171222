{
 "cells": [
  {
   "cell_type": "markdown",
   "id": "37cbb4b5",
   "metadata": {},
   "source": [
    "# lambda()"
   ]
  },
  {
   "cell_type": "markdown",
   "id": "0eb12f5f",
   "metadata": {},
   "source": [
    "Syntax:\n",
    "\n",
    "lambda argument(s): expression"
   ]
  },
  {
   "cell_type": "markdown",
   "id": "66d08842",
   "metadata": {},
   "source": [
    "- it is a special type of function without the function name\n",
    "- they are anonymous functions\n"
   ]
  },
  {
   "cell_type": "code",
   "execution_count": 7,
   "id": "68ea1794",
   "metadata": {},
   "outputs": [
    {
     "name": "stdout",
     "output_type": "stream",
     "text": [
      "Hello \n"
     ]
    }
   ],
   "source": [
    "greet = lambda: print(\"Hello \")\n",
    "greet()"
   ]
  },
  {
   "cell_type": "code",
   "execution_count": 17,
   "id": "c9a0c3b7",
   "metadata": {},
   "outputs": [
    {
     "name": "stdout",
     "output_type": "stream",
     "text": [
      "Hello  abx\n"
     ]
    }
   ],
   "source": [
    "greet_user = lambda name: print('Hello ', name)\n",
    "greet_user(\"abx\")"
   ]
  },
  {
   "cell_type": "code",
   "execution_count": null,
   "id": "81b9a883",
   "metadata": {},
   "outputs": [],
   "source": []
  },
  {
   "cell_type": "code",
   "execution_count": 1,
   "id": "0a5e55ba",
   "metadata": {},
   "outputs": [
    {
     "name": "stdout",
     "output_type": "stream",
     "text": [
      "15\n"
     ]
    }
   ],
   "source": [
    "x = lambda a: a + 10\n",
    "print(x(5))"
   ]
  },
  {
   "cell_type": "code",
   "execution_count": 3,
   "id": "ed7733b0",
   "metadata": {},
   "outputs": [
    {
     "name": "stdout",
     "output_type": "stream",
     "text": [
      "9\n"
     ]
    }
   ],
   "source": [
    "x = lambda a, b, c: a + b + c\n",
    "print(x(4, 3, 2))"
   ]
  },
  {
   "cell_type": "code",
   "execution_count": 5,
   "id": "d8d2b2ca",
   "metadata": {},
   "outputs": [
    {
     "name": "stdout",
     "output_type": "stream",
     "text": [
      "<function fun.<locals>.<lambda> at 0x000002199C616280>\n",
      "22\n"
     ]
    }
   ],
   "source": [
    "def fun(n):\n",
    "    return lambda a: a * n\n",
    "\n",
    "doubler = fun(2)\n",
    "print(doubler)\n",
    "print(doubler(11))"
   ]
  },
  {
   "cell_type": "markdown",
   "id": "818e984d",
   "metadata": {},
   "source": [
    "# python lambda function using if-else:\n"
   ]
  },
  {
   "cell_type": "code",
   "execution_count": 21,
   "id": "97f19518",
   "metadata": {},
   "outputs": [],
   "source": [
    "max = lambda a, b: a if (a > b) else b"
   ]
  },
  {
   "cell_type": "code",
   "execution_count": 22,
   "id": "eb755c8e",
   "metadata": {},
   "outputs": [
    {
     "data": {
      "text/plain": [
       "45"
      ]
     },
     "execution_count": 22,
     "metadata": {},
     "output_type": "execute_result"
    }
   ],
   "source": [
    "max(23, 45)"
   ]
  },
  {
   "cell_type": "code",
   "execution_count": null,
   "id": "298c3b38",
   "metadata": {},
   "outputs": [],
   "source": [
    "if condn:\n",
    "    what_to_do\n",
    "else:\n",
    "    what_to_do"
   ]
  },
  {
   "cell_type": "markdown",
   "id": "e342937a",
   "metadata": {},
   "source": [
    "# lambda with filter :"
   ]
  },
  {
   "cell_type": "markdown",
   "id": "83f30f8e",
   "metadata": {},
   "source": [
    "# Filter elements divisble by 12:"
   ]
  },
  {
   "cell_type": "code",
   "execution_count": 14,
   "id": "e1235f95",
   "metadata": {},
   "outputs": [
    {
     "name": "stdout",
     "output_type": "stream",
     "text": [
      "[36, 60, 48]\n"
     ]
    }
   ],
   "source": [
    "numbers = [1, 36, 54, 60, 48]\n",
    "\n",
    "obj = filter(lambda x: (x % 12 == 0) , numbers)\n",
    "op = list(obj)\n",
    "print(op)"
   ]
  },
  {
   "cell_type": "code",
   "execution_count": 15,
   "id": "33b09aab",
   "metadata": {},
   "outputs": [
    {
     "name": "stdout",
     "output_type": "stream",
     "text": [
      "False\n"
     ]
    }
   ],
   "source": [
    "check = lambda x: x % 12 == 0\n",
    "print(check(30))"
   ]
  },
  {
   "cell_type": "markdown",
   "id": "ce24a72f",
   "metadata": {},
   "source": [
    "# Filter even elements:"
   ]
  },
  {
   "cell_type": "code",
   "execution_count": 18,
   "id": "8522fc02",
   "metadata": {},
   "outputs": [
    {
     "name": "stdout",
     "output_type": "stream",
     "text": [
      "[36, 54, 60, 48]\n"
     ]
    }
   ],
   "source": [
    "numbers = [1, 36, 54, 60, 48]\n",
    "\n",
    "obj = filter(lambda x: (x % 2 == 0) , numbers)\n",
    "op = list(obj)\n",
    "print(op)"
   ]
  },
  {
   "cell_type": "markdown",
   "id": "8edd3b66",
   "metadata": {},
   "source": [
    "# Filter numbers greater than 50"
   ]
  },
  {
   "cell_type": "code",
   "execution_count": 23,
   "id": "0c41aa42",
   "metadata": {},
   "outputs": [
    {
     "name": "stdout",
     "output_type": "stream",
     "text": [
      "[54, 60]\n"
     ]
    }
   ],
   "source": [
    "numbers = [1, 36, 54, 60, 48]\n",
    "\n",
    "obj = filter(lambda x: x > 50 , numbers)\n",
    "op = list(obj)\n",
    "print(op)"
   ]
  },
  {
   "cell_type": "markdown",
   "id": "8473ea3f",
   "metadata": {},
   "source": [
    "# lambda with map:\n"
   ]
  },
  {
   "cell_type": "markdown",
   "id": "7a1cf9a7",
   "metadata": {},
   "source": [
    "# Square of each element:"
   ]
  },
  {
   "cell_type": "code",
   "execution_count": 20,
   "id": "4a45326c",
   "metadata": {},
   "outputs": [
    {
     "name": "stdout",
     "output_type": "stream",
     "text": [
      "[1, 4, 16, 36, 64]\n"
     ]
    }
   ],
   "source": [
    "numbers = [1, 2, 4, 6, 8]\n",
    "\n",
    "obj = map(lambda x: x * x , numbers)\n",
    "op = list(obj)\n",
    "print(op)"
   ]
  },
  {
   "cell_type": "code",
   "execution_count": 25,
   "id": "75b5d550",
   "metadata": {},
   "outputs": [
    {
     "name": "stdout",
     "output_type": "stream",
     "text": [
      "[2, 4, 9, 3, 8, 5]\n",
      "[1, 2, 3, 4]\n"
     ]
    }
   ],
   "source": [
    "num1 = [2, 4, 9]\n",
    "num2 = [3, 8, 5]\n",
    "\n",
    "s = lambda x, y: x + y\n",
    "print(s(num1, num2))\n",
    "\n",
    "# ol = []\n",
    "# for i in zip(num1, num2):\n",
    "#     z = num1[i] + num2[i]\n",
    "#     z.append(ol)\n",
    "\n",
    "l1  = [1, 2]\n",
    "l2 = [3, 4]\n",
    "print(l1 + l2)"
   ]
  },
  {
   "cell_type": "code",
   "execution_count": 26,
   "id": "75cbdf9a",
   "metadata": {},
   "outputs": [
    {
     "name": "stdout",
     "output_type": "stream",
     "text": [
      "[5, 12, 14]\n"
     ]
    }
   ],
   "source": [
    "num1 = [2, 4, 9]\n",
    "num2 = [3, 8, 5]\n",
    "\n",
    "op = list(map(lambda x, y: x + y, num1, num2))\n",
    "print(op)"
   ]
  },
  {
   "cell_type": "code",
   "execution_count": 1,
   "id": "1f9a0a7e",
   "metadata": {},
   "outputs": [],
   "source": [
    "c = filter(lambda x: x>=3, map(lambda x: x + x, (1, 2, 3, 4)))"
   ]
  },
  {
   "cell_type": "code",
   "execution_count": 3,
   "id": "2d0823d8",
   "metadata": {},
   "outputs": [
    {
     "name": "stdout",
     "output_type": "stream",
     "text": [
      "[4, 6, 8]\n"
     ]
    }
   ],
   "source": [
    "print(list(c))"
   ]
  },
  {
   "cell_type": "code",
   "execution_count": 4,
   "id": "23223bca",
   "metadata": {},
   "outputs": [
    {
     "name": "stdout",
     "output_type": "stream",
     "text": [
      "[2, 4, 6, 8]\n"
     ]
    }
   ],
   "source": [
    "op = list(map(lambda x: x + x, (1, 2, 3, 4)))\n",
    "print(op)"
   ]
  },
  {
   "cell_type": "code",
   "execution_count": null,
   "id": "2a03c065",
   "metadata": {},
   "outputs": [],
   "source": [
    "c = filter(lambda x: x>=3, [2, 4, 6, 8])"
   ]
  }
 ],
 "metadata": {
  "kernelspec": {
   "display_name": "Python 3 (ipykernel)",
   "language": "python",
   "name": "python3"
  },
  "language_info": {
   "codemirror_mode": {
    "name": "ipython",
    "version": 3
   },
   "file_extension": ".py",
   "mimetype": "text/x-python",
   "name": "python",
   "nbconvert_exporter": "python",
   "pygments_lexer": "ipython3",
   "version": "3.9.13"
  }
 },
 "nbformat": 4,
 "nbformat_minor": 5
}
