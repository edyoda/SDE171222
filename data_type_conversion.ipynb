{
 "cells": [
  {
   "cell_type": "markdown",
   "id": "cbb8879a",
   "metadata": {},
   "source": [
    "# Type Conversion in Python"
   ]
  },
  {
   "cell_type": "markdown",
   "id": "421b8f88",
   "metadata": {},
   "source": [
    "Python defines type conversion functions to directly convert one data type to another which is useful in day-to-day and competitive programming. This article is aimed at providing information about certain conversion functions.\n",
    "\n",
    "There are two types of Type Conversion in Python:\n",
    "\n",
    "1. Implicit Type Conversion\n",
    "2. Explicit Type Conversion"
   ]
  },
  {
   "cell_type": "markdown",
   "id": "9aa6eff9",
   "metadata": {},
   "source": [
    "# Implicit type conversion"
   ]
  },
  {
   "cell_type": "markdown",
   "id": "5645ce63",
   "metadata": {},
   "source": [
    "\n",
    "In Implicit type conversion of data types in Python, the Python interpreter automatically converts one data type to another without any user involvement. To get a more clear view of the topic see the below examples."
   ]
  },
  {
   "cell_type": "markdown",
   "id": "c9850cd8",
   "metadata": {},
   "source": [
    "# Explicit Type Conversion"
   ]
  },
  {
   "cell_type": "markdown",
   "id": "1c9d52dc",
   "metadata": {},
   "source": [
    "In Explicit Type Conversion in Python, the data type is manually changed by the user as per their requirement. With explicit type conversion, there is a risk of data loss since we are forcing an expression to be changed in some specific data type. "
   ]
  },
  {
   "cell_type": "code",
   "execution_count": null,
   "id": "6f744dd0",
   "metadata": {},
   "outputs": [],
   "source": []
  },
  {
   "cell_type": "code",
   "execution_count": null,
   "id": "35b1d4bb",
   "metadata": {},
   "outputs": [],
   "source": []
  },
  {
   "cell_type": "markdown",
   "id": "e965d902",
   "metadata": {},
   "source": [
    "1.  tuple() : This function is used to convert to a tuple.\n",
    "2. set() : This function returns the type after converting to set.\n",
    "3. list() : This function is used to convert any data type to a list type."
   ]
  },
  {
   "cell_type": "markdown",
   "id": "84871a24",
   "metadata": {},
   "source": [
    "4. dict() : This function is used to convert a tuple of order (key,value) into a dictionary.\n",
    "5. str() : Used to convert integer into a string.\n",
    "6. complex(real,imag) : This function converts real numbers to complex(real,imag) number.\n",
    "\n"
   ]
  },
  {
   "cell_type": "markdown",
   "id": "24c562b3",
   "metadata": {},
   "source": [
    "7. chr(number): This function converts number to its corresponding ASCII character. "
   ]
  },
  {
   "cell_type": "code",
   "execution_count": null,
   "id": "d6f20722",
   "metadata": {},
   "outputs": [],
   "source": []
  }
 ],
 "metadata": {
  "kernelspec": {
   "display_name": "Python 3 (ipykernel)",
   "language": "python",
   "name": "python3"
  },
  "language_info": {
   "codemirror_mode": {
    "name": "ipython",
    "version": 3
   },
   "file_extension": ".py",
   "mimetype": "text/x-python",
   "name": "python",
   "nbconvert_exporter": "python",
   "pygments_lexer": "ipython3",
   "version": "3.9.13"
  }
 },
 "nbformat": 4,
 "nbformat_minor": 5
}
