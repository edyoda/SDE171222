{
 "cells": [
  {
   "cell_type": "markdown",
   "id": "6fdbbd68",
   "metadata": {},
   "source": [
    "# What is a Stack?"
   ]
  },
  {
   "cell_type": "markdown",
   "id": "7fee5a2b",
   "metadata": {},
   "source": [
    "A stack is a data structure that stores items in Last-in/First-Out manner. This is frequently referred to as LIFO. This is in contrast to a queue, which stores items in First-In/First-Out manner."
   ]
  },
  {
   "cell_type": "code",
   "execution_count": null,
   "id": "52e9e290",
   "metadata": {},
   "outputs": [],
   "source": []
  },
  {
   "cell_type": "markdown",
   "id": "3a0d8472",
   "metadata": {},
   "source": [
    "# Implementing a Python Stack"
   ]
  },
  {
   "cell_type": "markdown",
   "id": "2313d25b",
   "metadata": {},
   "source": [
    "There are a couple of methods to implement a Python stack."
   ]
  },
  {
   "cell_type": "markdown",
   "id": "3df36d14",
   "metadata": {},
   "source": [
    "We're going to look at the following Python stack implementations:"
   ]
  },
  {
   "cell_type": "markdown",
   "id": "1fe0af46",
   "metadata": {},
   "source": [
    "- list\n",
    "- collections.dequeue"
   ]
  },
  {
   "cell_type": "markdown",
   "id": "5d97731a",
   "metadata": {},
   "source": [
    "# Using list to create a Python stack"
   ]
  },
  {
   "cell_type": "code",
   "execution_count": null,
   "id": "bac0e3a8",
   "metadata": {},
   "outputs": [],
   "source": []
  },
  {
   "cell_type": "code",
   "execution_count": 6,
   "id": "998d0da0",
   "metadata": {},
   "outputs": [
    {
     "name": "stdout",
     "output_type": "stream",
     "text": [
      "['a', 'b', 'c']\n",
      "['a', 'b']\n",
      "['a']\n",
      "[]\n"
     ]
    }
   ],
   "source": [
    "# code\n",
    "\n",
    "my_stack = []\n",
    "my_stack.append('a')\n",
    "my_stack.append('b')\n",
    "my_stack.append('c')\n",
    "\n",
    "print(my_stack)\n",
    "\n",
    "my_stack.pop()\n",
    "print(my_stack)\n",
    "my_stack.pop()\n",
    "print(my_stack)\n",
    "my_stack.pop()\n",
    "print(my_stack)\n"
   ]
  },
  {
   "cell_type": "code",
   "execution_count": 8,
   "id": "0754b0c9",
   "metadata": {},
   "outputs": [
    {
     "ename": "IndexError",
     "evalue": "pop from empty list",
     "output_type": "error",
     "traceback": [
      "\u001b[0;31m---------------------------------------------------------------------------\u001b[0m",
      "\u001b[0;31mIndexError\u001b[0m                                Traceback (most recent call last)",
      "Cell \u001b[0;32mIn [8], line 2\u001b[0m\n\u001b[1;32m      1\u001b[0m \u001b[38;5;66;03m# we cannot pop elements from an empty list\u001b[39;00m\n\u001b[0;32m----> 2\u001b[0m \u001b[43mmy_stack\u001b[49m\u001b[38;5;241;43m.\u001b[39;49m\u001b[43mpop\u001b[49m\u001b[43m(\u001b[49m\u001b[43m)\u001b[49m\n\u001b[1;32m      3\u001b[0m \u001b[38;5;28mprint\u001b[39m(my_stack)\n",
      "\u001b[0;31mIndexError\u001b[0m: pop from empty list"
     ]
    }
   ],
   "source": [
    "# we cannot pop elements from an empty list\n",
    "my_stack.pop()\n",
    "print(my_stack)"
   ]
  },
  {
   "cell_type": "code",
   "execution_count": 9,
   "id": "41718937",
   "metadata": {},
   "outputs": [
    {
     "name": "stdout",
     "output_type": "stream",
     "text": [
      "[1, 'a', 3]\n"
     ]
    }
   ],
   "source": [
    "l = [1,2,3]\n",
    "l[1] = 'a'\n",
    "print(l)"
   ]
  },
  {
   "cell_type": "code",
   "execution_count": null,
   "id": "1b7ccbb3",
   "metadata": {},
   "outputs": [],
   "source": []
  },
  {
   "cell_type": "markdown",
   "id": "b436150f",
   "metadata": {},
   "source": [
    "# Using collections.deque to create a Python stack "
   ]
  },
  {
   "cell_type": "code",
   "execution_count": null,
   "id": "5e590a0a",
   "metadata": {},
   "outputs": [],
   "source": []
  },
  {
   "cell_type": "code",
   "execution_count": 10,
   "id": "c925ac7a",
   "metadata": {},
   "outputs": [],
   "source": [
    "# code\n",
    "\n",
    "from collections import deque"
   ]
  },
  {
   "cell_type": "code",
   "execution_count": 13,
   "id": "4bc36aac",
   "metadata": {},
   "outputs": [
    {
     "name": "stdout",
     "output_type": "stream",
     "text": [
      "deque(['a', 'b', 'c'])\n",
      "after 1st element is popped: deque(['a', 'b'])\n",
      "deque(['a'])\n"
     ]
    }
   ],
   "source": [
    "my_stack = deque()\n",
    "\n",
    "my_stack.append('a')\n",
    "my_stack.append('b')\n",
    "my_stack.append('c')\n",
    "\n",
    "print(my_stack)\n",
    "\n",
    "\n",
    "my_stack.pop()\n",
    "print(\"after 1st element is popped:\", my_stack)\n",
    "my_stack.pop()\n",
    "print(my_stack)"
   ]
  },
  {
   "cell_type": "code",
   "execution_count": null,
   "id": "d40e0953",
   "metadata": {},
   "outputs": [],
   "source": []
  },
  {
   "cell_type": "markdown",
   "id": "1f28bad6",
   "metadata": {},
   "source": [
    "# Reverse a stack using recursion\n"
   ]
  },
  {
   "cell_type": "code",
   "execution_count": 15,
   "id": "7f24ba54",
   "metadata": {},
   "outputs": [
    {
     "data": {
      "text/plain": [
       "[1, 2, 3]"
      ]
     },
     "execution_count": 15,
     "metadata": {},
     "output_type": "execute_result"
    }
   ],
   "source": [
    "l = [1, 2, 3, 4]\n",
    "\n",
    "x = []\n",
    "\n",
    "l.pop()\n",
    "l"
   ]
  },
  {
   "cell_type": "markdown",
   "id": "68e9ba50",
   "metadata": {},
   "source": [
    "# limitations:"
   ]
  },
  {
   "cell_type": "markdown",
   "id": "75be22e0",
   "metadata": {},
   "source": [
    "1. u cannot use any loop\n",
    "2. u want to store the reversed elements in the same stack"
   ]
  },
  {
   "cell_type": "code",
   "execution_count": 21,
   "id": "9019a810",
   "metadata": {},
   "outputs": [],
   "source": [
    "from collections import deque \n",
    "l=[1,2,3,4] \n",
    "def rev(): \n",
    "    l.pop()     #4\n",
    "    rev()       #3 \n",
    "    if len(l)==0: \n",
    "        rev() "
   ]
  },
  {
   "cell_type": "code",
   "execution_count": null,
   "id": "e0ec4d81",
   "metadata": {},
   "outputs": [],
   "source": []
  },
  {
   "cell_type": "code",
   "execution_count": null,
   "id": "7299d121",
   "metadata": {},
   "outputs": [],
   "source": []
  }
 ],
 "metadata": {
  "kernelspec": {
   "display_name": "Python 3 (ipykernel)",
   "language": "python",
   "name": "python3"
  },
  "language_info": {
   "codemirror_mode": {
    "name": "ipython",
    "version": 3
   },
   "file_extension": ".py",
   "mimetype": "text/x-python",
   "name": "python",
   "nbconvert_exporter": "python",
   "pygments_lexer": "ipython3",
   "version": "3.8.10"
  }
 },
 "nbformat": 4,
 "nbformat_minor": 5
}
