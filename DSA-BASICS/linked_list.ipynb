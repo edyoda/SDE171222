{
 "cells": [
  {
   "cell_type": "markdown",
   "id": "e4bd4680",
   "metadata": {},
   "source": [
    "A linked list is a sequence of data elements, which are connected together via links. Each data element contains a connection to another data element in form of a pointer. Python does not have linked lists in its standard library. We implement the concept of linked lists using the concept of nodes.\n"
   ]
  },
  {
   "cell_type": "markdown",
   "id": "cdd9fdb6",
   "metadata": {},
   "source": [
    "Advantages of Linked Lists over arrays:\n",
    "    \n",
    "- Ease of Insertion/Deletion.\n",
    "\n",
    "Drawbacks of Linked Lists:\n",
    "\n",
    "- Random access is not allowed. We have to access elements sequentially starting from the first node(head node). So we cannot do search with linked lists efficiently with its default implementation. \n",
    "- Extra memory space for a pointer is required with each element of the list. \n",
    "- Direct access to an element is not possible in a linked list as in an array by index.\n",
    "- Not cache friendly. Since array elements are contiguous locations, there is locality of reference which is not there in case of linked lists.\n",
    "- It takes a lot of time in traversing and changing the pointers.\n",
    "- Reverse traversing is not possible in singly linked lists.\n",
    "- It will be confusing when we work with pointers.\n",
    "\n",
    "- Searching an element is costly and requires O(n) time complexity.\n",
    "- Sorting of linked list is very complex and costly."
   ]
  },
  {
   "cell_type": "markdown",
   "id": "336e7351",
   "metadata": {},
   "source": [
    "# Creation of Linked List"
   ]
  },
  {
   "cell_type": "markdown",
   "id": "2917c79f",
   "metadata": {},
   "source": [
    "A linked list is represented by a pointer to the first node of the linked list. The first node is called the head of the linked list. If the linked list is empty, then the value of the head points to NULL. \n",
    "\n",
    "Each node in a list consists of at least two parts: \n",
    "\n",
    "- A Data Item (we can store integer, strings, or any type of data).\n",
    "- Pointer (Or Reference) to the next node (connects one node to another) or An address of another node"
   ]
  },
  {
   "cell_type": "code",
   "execution_count": 3,
   "id": "6407da5d",
   "metadata": {},
   "outputs": [],
   "source": [
    "# camelcascading\n",
    "\n",
    "#initialization, assignment: whenever we define a variable for first time, it is initizalization \n",
    "# whenever we define a variable  apartfrom first time, it is assignment "
   ]
  },
  {
   "cell_type": "code",
   "execution_count": 4,
   "id": "a4c4dbed",
   "metadata": {},
   "outputs": [],
   "source": [
    "class Node:\n",
    "    \n",
    "    def __init__(self, data):\n",
    "        self.data = data\n",
    "        self.next = None\n",
    "\n",
    "class LinkedList:\n",
    "    \n",
    "    def __init__(self):\n",
    "        self.head = None\n",
    "        \n",
    "ll = LinkedList()\n",
    "ll.head = Node(10)\n",
    "n2 = Node(20)\n",
    "n3 = Node(30)\n",
    "\n",
    "ll.head.next = n2\n",
    "n2.next = n3\n"
   ]
  },
  {
   "cell_type": "code",
   "execution_count": null,
   "id": "53114d00",
   "metadata": {},
   "outputs": [],
   "source": []
  },
  {
   "cell_type": "markdown",
   "id": "50c8cc7f",
   "metadata": {},
   "source": [
    "# Traversing a Linked List"
   ]
  },
  {
   "cell_type": "markdown",
   "id": "98fdce6d",
   "metadata": {},
   "source": [
    "Singly linked lists can be traversed in only forward direction starting form the first data element. We simply print the value of the next data element by assigning the pointer of the next node to the current data element."
   ]
  },
  {
   "cell_type": "code",
   "execution_count": 5,
   "id": "55049d2b",
   "metadata": {},
   "outputs": [
    {
     "name": "stdout",
     "output_type": "stream",
     "text": [
      "10\n",
      "20\n",
      "30\n"
     ]
    }
   ],
   "source": [
    "class Node:\n",
    "    \n",
    "    def __init__(self, data):\n",
    "        self.data = data\n",
    "        self.next = None\n",
    "\n",
    "class LinkedList:\n",
    "    \n",
    "    def __init__(self):\n",
    "        self.head = None\n",
    "        \n",
    "    def llistprint(self):\n",
    "        printval = self.head\n",
    "        \n",
    "        while printval is not None:\n",
    "            print(printval.data)\n",
    "            printval = printval.next\n",
    "            \n",
    "        \n",
    "ll = LinkedList()\n",
    "ll.head = Node(10)\n",
    "n2 = Node(20)\n",
    "n3 = Node(30)\n",
    "\n",
    "ll.head.next = n2\n",
    "n2.next = n3\n",
    "\n",
    "ll.llistprint()"
   ]
  },
  {
   "cell_type": "markdown",
   "id": "1f57dcb3",
   "metadata": {},
   "source": [
    "# INSERTION IN LINKED LIST"
   ]
  },
  {
   "cell_type": "markdown",
   "id": "cc264da8",
   "metadata": {},
   "source": [
    "Inserting element in the linked list involves reassigning the pointers from the existing nodes to the newly inserted node. Depending on whether the new data element is getting inserted at the beginning or at the middle or at the end of the linked list, we have the below scenarios."
   ]
  },
  {
   "cell_type": "markdown",
   "id": "5aa376eb",
   "metadata": {},
   "source": [
    "# Inserting at the Beginning"
   ]
  },
  {
   "attachments": {
    "image.png": {
     "image/png": "[encoded data removed]"
    }
   },
   "cell_type": "markdown",
   "id": "dd353b15",
   "metadata": {},
   "source": [
    "![image.png](attachment:image.png)"
   ]
  },
  {
   "cell_type": "code",
   "execution_count": 6,
   "id": "cb67a41d",
   "metadata": {},
   "outputs": [
    {
     "name": "stdout",
     "output_type": "stream",
     "text": [
      "initial linked list:\n",
      "10\n",
      "20\n",
      "30\n",
      "after insertion at beginning:\n",
      "5\n",
      "10\n",
      "20\n",
      "30\n"
     ]
    }
   ],
   "source": [
    "class Node:\n",
    "    \n",
    "    def __init__(self, data):\n",
    "        self.data = data\n",
    "        self.next = None\n",
    "\n",
    "class LinkedList:\n",
    "    \n",
    "    def __init__(self):\n",
    "        self.head = None\n",
    "        \n",
    "    def llistprint(self):\n",
    "        printval = self.head\n",
    "        \n",
    "        while printval is not None:\n",
    "            print(printval.data)\n",
    "            printval = printval.next\n",
    "            \n",
    "    def insert_at_beginning(self, new_data):\n",
    "        new_node = Node(new_data)\n",
    "        new_node.next = self.head\n",
    "        self.head = new_node\n",
    "        \n",
    "        \n",
    "ll = LinkedList()\n",
    "ll.head = Node(10)\n",
    "n2 = Node(20)\n",
    "n3 = Node(30)\n",
    "\n",
    "ll.head.next = n2\n",
    "n2.next = n3\n",
    "\n",
    "print(\"initial linked list:\")\n",
    "ll.llistprint()\n",
    "\n",
    "print(\"after insertion at beginning:\")\n",
    "ll.insert_at_beginning(5)\n",
    "ll.llistprint()"
   ]
  },
  {
   "cell_type": "code",
   "execution_count": null,
   "id": "e9f5e966",
   "metadata": {},
   "outputs": [],
   "source": []
  },
  {
   "cell_type": "code",
   "execution_count": null,
   "id": "46af2c45",
   "metadata": {},
   "outputs": [],
   "source": []
  },
  {
   "cell_type": "markdown",
   "id": "75157686",
   "metadata": {},
   "source": [
    "# Inserting at the end"
   ]
  },
  {
   "attachments": {
    "image.png": {
     "image/png": "[encoded data removed]"
    }
   },
   "cell_type": "markdown",
   "id": "5fb93e76",
   "metadata": {},
   "source": [
    "![image.png](attachment:image.png)"
   ]
  },
  {
   "cell_type": "code",
   "execution_count": 7,
   "id": "fd5c6866",
   "metadata": {},
   "outputs": [
    {
     "name": "stdout",
     "output_type": "stream",
     "text": [
      "initial linked list:\n",
      "10\n",
      "20\n",
      "30\n",
      "after insertion at beginning:\n",
      "5\n",
      "10\n",
      "20\n",
      "30\n",
      "after inserrtion at end:\n",
      "5\n",
      "10\n",
      "20\n",
      "30\n",
      "40\n"
     ]
    }
   ],
   "source": [
    "class Node:\n",
    "    \n",
    "    def __init__(self, data):\n",
    "        self.data = data\n",
    "        self.next = None\n",
    "\n",
    "class LinkedList:\n",
    "    \n",
    "    def __init__(self):\n",
    "        self.head = None\n",
    "        \n",
    "    def llistprint(self):\n",
    "        printval = self.head\n",
    "        \n",
    "        while printval is not None:\n",
    "            print(printval.data)\n",
    "            printval = printval.next\n",
    "            \n",
    "    def insert_at_beginning(self, new_data):\n",
    "        new_node = Node(new_data)\n",
    "        new_node.next = self.head\n",
    "        self.head = new_node\n",
    "        \n",
    "    def insert_at_end(self, new_data):\n",
    "        # creating a new node\n",
    "        new_node = Node(new_data)\n",
    "        \n",
    "        # check if linked list is empty\n",
    "        if self.head is None:\n",
    "            self.head = new_node\n",
    "        \n",
    "        # traverse through the entire linked list to reach to the end of linked list\n",
    "        # b'coz random accessing of elements isn't possible in linked list\n",
    "        curr_last_node = self.head\n",
    "        \n",
    "        # traversal of linked list, the loop will terminate when it reaches to the end of linked list\n",
    "        while(curr_last_node.next):\n",
    "            curr_last_node = curr_last_node.next\n",
    "            \n",
    "        # create linkage, i.e., updating the last node pointer of linked list to point to new node\n",
    "        curr_last_node.next = new_node\n",
    "        \n",
    "        \n",
    "ll = LinkedList()\n",
    "ll.head = Node(10)\n",
    "n2 = Node(20)\n",
    "n3 = Node(30)\n",
    "\n",
    "ll.head.next = n2\n",
    "n2.next = n3\n",
    "\n",
    "print(\"initial linked list:\")\n",
    "ll.llistprint()\n",
    "\n",
    "print(\"after insertion at beginning:\")\n",
    "ll.insert_at_beginning(5)\n",
    "ll.llistprint()\n",
    "\n",
    "ll.insert_at_end(40)\n",
    "print(\"after inserrtion at end:\")\n",
    "ll.llistprint()"
   ]
  },
  {
   "cell_type": "code",
   "execution_count": null,
   "id": "a4a537c9",
   "metadata": {},
   "outputs": [],
   "source": []
  },
  {
   "cell_type": "code",
   "execution_count": null,
   "id": "eb9f61ab",
   "metadata": {},
   "outputs": [],
   "source": []
  },
  {
   "cell_type": "markdown",
   "id": "85d34c11",
   "metadata": {},
   "source": [
    "# Inserting in between"
   ]
  },
  {
   "attachments": {
    "image.png": {
     "image/png": "[encoded data removed]"
    }
   },
   "cell_type": "markdown",
   "id": "a478e089",
   "metadata": {},
   "source": [
    "![image.png](attachment:image.png)"
   ]
  },
  {
   "cell_type": "code",
   "execution_count": 10,
   "id": "b0387d35",
   "metadata": {},
   "outputs": [
    {
     "name": "stdout",
     "output_type": "stream",
     "text": [
      "initial linked list:\n",
      "10\n",
      "20\n",
      "30\n",
      "after insertion at beginning:\n",
      "5\n",
      "10\n",
      "20\n",
      "30\n",
      "after inserrtion at end:\n",
      "5\n",
      "10\n",
      "20\n",
      "30\n",
      "40\n",
      "after insertion in between: \n",
      "5\n",
      "10\n",
      "20\n",
      "25\n",
      "30\n",
      "40\n"
     ]
    }
   ],
   "source": [
    "class Node:\n",
    "    \n",
    "    def __init__(self, data):\n",
    "        self.data = data\n",
    "        self.next = None\n",
    "\n",
    "class LinkedList:\n",
    "    \n",
    "    def __init__(self):\n",
    "        self.head = None\n",
    "        \n",
    "    def llistprint(self):\n",
    "        printval = self.head\n",
    "        \n",
    "        while printval is not None:\n",
    "            print(printval.data)\n",
    "            printval = printval.next\n",
    "            \n",
    "    def insert_at_beginning(self, new_data):\n",
    "        new_node = Node(new_data)\n",
    "        new_node.next = self.head\n",
    "        self.head = new_node\n",
    "        \n",
    "    def insert_at_end(self, new_data):\n",
    "        # creating a new node\n",
    "        new_node = Node(new_data)\n",
    "        \n",
    "        # check if linked list is empty\n",
    "        if self.head is None:\n",
    "            self.head = new_node\n",
    "        \n",
    "        # traverse through the entire linked list to reach to the end of linked list\n",
    "        # b'coz random accessing of elements isn't possible in linked list\n",
    "        curr_last_node = self.head\n",
    "        \n",
    "        # traversal of linked list, the loop will terminate when it reaches to the end of linked list\n",
    "        while(curr_last_node.next):\n",
    "            curr_last_node = curr_last_node.next\n",
    "            \n",
    "        # create linkage, i.e., updating the last node pointer of linked list to point to new node\n",
    "        curr_last_node.next = new_node\n",
    "        \n",
    "    def insert_at_between(self, new_data, prev_node):\n",
    "        # param: prev_node tells that after which node insertion is to be done\n",
    "        \n",
    "        if prev_node is None:\n",
    "            print(\"The node is absent\")\n",
    "            return\n",
    "        \n",
    "        # create new node\n",
    "        new_node = Node(new_data)\n",
    "        # creating connections/linkages\n",
    "        new_node.next = prev_node.next\n",
    "        prev_node.next = new_node\n",
    "        \n",
    "        \n",
    "        \n",
    "ll = LinkedList()\n",
    "ll.head = Node(10)\n",
    "n2 = Node(20)\n",
    "n3 = Node(30)\n",
    "\n",
    "ll.head.next = n2\n",
    "n2.next = n3\n",
    "\n",
    "print(\"initial linked list:\")\n",
    "ll.llistprint()\n",
    "\n",
    "print(\"after insertion at beginning:\")\n",
    "ll.insert_at_beginning(5)\n",
    "ll.llistprint()\n",
    "\n",
    "ll.insert_at_end(40)\n",
    "print(\"after inserrtion at end:\")\n",
    "ll.llistprint()\n",
    "\n",
    "ll.insert_at_between(25, (ll.head.next).next)\n",
    "print(\"after insertion in between: \")\n",
    "ll.llistprint()"
   ]
  },
  {
   "cell_type": "code",
   "execution_count": null,
   "id": "fe240340",
   "metadata": {},
   "outputs": [],
   "source": []
  },
  {
   "cell_type": "code",
   "execution_count": null,
   "id": "bfade2fb",
   "metadata": {},
   "outputs": [],
   "source": []
  },
  {
   "cell_type": "markdown",
   "id": "14b2b4c5",
   "metadata": {},
   "source": [
    "# REMOVING AN ITEM"
   ]
  },
  {
   "cell_type": "markdown",
   "id": "73f8a5fc",
   "metadata": {},
   "source": [
    "We can remove an existing node using the key for that node. In the below program we locate the previous node of the node which is to be deleted.Then, point the next pointer of this node to the next node of the node to be deleted."
   ]
  },
  {
   "attachments": {
    "image.png": {
     "image/png": "[encoded data removed]"
    }
   },
   "cell_type": "markdown",
   "id": "dd991b8c",
   "metadata": {},
   "source": [
    "![image.png](attachment:image.png)"
   ]
  },
  {
   "cell_type": "code",
   "execution_count": 11,
   "id": "783fe71c",
   "metadata": {},
   "outputs": [
    {
     "name": "stdout",
     "output_type": "stream",
     "text": [
      "initial linked list:\n",
      "10\n",
      "20\n",
      "30\n",
      "after insertion at beginning:\n",
      "5\n",
      "10\n",
      "20\n",
      "30\n",
      "after inserrtion at end:\n",
      "5\n",
      "10\n",
      "20\n",
      "30\n",
      "40\n",
      "after insertion in between: \n",
      "5\n",
      "10\n",
      "20\n",
      "25\n",
      "30\n",
      "40\n",
      "after deletion:\n",
      "5\n",
      "10\n",
      "20\n",
      "30\n",
      "40\n"
     ]
    }
   ],
   "source": [
    "class Node:\n",
    "    \n",
    "    def __init__(self, data):\n",
    "        self.data = data\n",
    "        self.next = None\n",
    "\n",
    "class LinkedList:\n",
    "    \n",
    "    def __init__(self):\n",
    "        self.head = None\n",
    "        \n",
    "    def llistprint(self):\n",
    "        printval = self.head\n",
    "        \n",
    "        while printval is not None:\n",
    "            print(printval.data)\n",
    "            printval = printval.next\n",
    "            \n",
    "    def insert_at_beginning(self, new_data):\n",
    "        new_node = Node(new_data)\n",
    "        new_node.next = self.head\n",
    "        self.head = new_node\n",
    "        \n",
    "    def insert_at_end(self, new_data):\n",
    "        # creating a new node\n",
    "        new_node = Node(new_data)\n",
    "        \n",
    "        # check if linked list is empty\n",
    "        if self.head is None:\n",
    "            self.head = new_node\n",
    "        \n",
    "        # traverse through the entire linked list to reach to the end of linked list\n",
    "        # b'coz random accessing of elements isn't possible in linked list\n",
    "        curr_last_node = self.head\n",
    "        \n",
    "        # traversal of linked list, the loop will terminate when it reaches to the end of linked list\n",
    "        while(curr_last_node.next):\n",
    "            curr_last_node = curr_last_node.next\n",
    "            \n",
    "        # create linkage, i.e., updating the last node pointer of linked list to point to new node\n",
    "        curr_last_node.next = new_node\n",
    "        \n",
    "    def insert_at_between(self, new_data, prev_node):\n",
    "        # param: prev_node tells that after which node insertion is to be done\n",
    "        \n",
    "        if prev_node is None:\n",
    "            print(\"The node is absent\")\n",
    "            return\n",
    "        \n",
    "        # create new node\n",
    "        new_node = Node(new_data)\n",
    "        # creating connections/linkages\n",
    "        new_node.next = prev_node.next\n",
    "        prev_node.next = new_node\n",
    "        \n",
    "        \n",
    "    def delete_node(self, key):\n",
    "        \n",
    "        # creating variable for traversal through linked list\n",
    "        temp = self.head\n",
    "        \n",
    "        # if head node itself holds the key to be deleted\n",
    "        if(temp is not None):\n",
    "            if (temp.data == key):\n",
    "                self.head = temp.next\n",
    "                temp = None\n",
    "                return\n",
    "            \n",
    "        # search for the key to be deleted, keep track of the previous node(create anothervar.: prev) as we need to change prev.next\n",
    "        while(temp is not None):\n",
    "            if temp.data == key:\n",
    "                break\n",
    "            # creating 'prev' var. to keep track of the previous node\n",
    "            prev = temp\n",
    "            temp = temp.next\n",
    "            \n",
    "        # if key wasn't present in the linked list\n",
    "        if(temp == None):\n",
    "            return\n",
    "        \n",
    "        #  link the node from linked list\n",
    "        prev.next = temp.next\n",
    "        # writing below line to remove the key node connection from linked list\n",
    "        temp = None\n",
    "        \n",
    "        \n",
    "ll = LinkedList()\n",
    "ll.head = Node(10)\n",
    "n2 = Node(20)\n",
    "n3 = Node(30)\n",
    "\n",
    "ll.head.next = n2\n",
    "n2.next = n3\n",
    "\n",
    "print(\"initial linked list:\")\n",
    "ll.llistprint()\n",
    "\n",
    "print(\"after insertion at beginning:\")\n",
    "ll.insert_at_beginning(5)\n",
    "ll.llistprint()\n",
    "\n",
    "ll.insert_at_end(40)\n",
    "print(\"after inserrtion at end:\")\n",
    "ll.llistprint()\n",
    "\n",
    "ll.insert_at_between(25, (ll.head.next).next)\n",
    "print(\"after insertion in between: \")\n",
    "ll.llistprint()\n",
    "\n",
    "ll.delete_node(25)\n",
    "print(\"after deletion:\")\n",
    "ll.llistprint()"
   ]
  },
  {
   "cell_type": "code",
   "execution_count": null,
   "id": "bcab6918",
   "metadata": {},
   "outputs": [],
   "source": []
  }
 ],
 "metadata": {
  "kernelspec": {
   "display_name": "Python 3 (ipykernel)",
   "language": "python",
   "name": "python3"
  },
  "language_info": {
   "codemirror_mode": {
    "name": "ipython",
    "version": 3
   },
   "file_extension": ".py",
   "mimetype": "text/x-python",
   "name": "python",
   "nbconvert_exporter": "python",
   "pygments_lexer": "ipython3",
   "version": "3.8.10"
  }
 },
 "nbformat": 4,
 "nbformat_minor": 5
}
