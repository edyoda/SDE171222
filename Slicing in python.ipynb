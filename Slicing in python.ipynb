{
 "cells": [
  {
   "cell_type": "code",
   "execution_count": null,
   "id": "a9e29507",
   "metadata": {},
   "outputs": [],
   "source": []
  },
  {
   "cell_type": "code",
   "execution_count": 6,
   "id": "07cf3bb6",
   "metadata": {},
   "outputs": [
    {
     "name": "stdout",
     "output_type": "stream",
     "text": [
      "18\n",
      "programmin\n"
     ]
    }
   ],
   "source": [
    "text = \"python programming\" \n",
    "print(len(text))\n",
    "# sliced_text = slice(6)\n",
    "sliced_text = slice(7, 17)                             #runs from 7 to 16\n",
    "print(text[sliced_text])"
   ]
  },
  {
   "cell_type": "code",
   "execution_count": 7,
   "id": "d7624947",
   "metadata": {},
   "outputs": [
    {
     "name": "stdout",
     "output_type": "stream",
     "text": [
      "18\n",
      "pormi\n"
     ]
    }
   ],
   "source": [
    "text = \"python programming\" \n",
    "print(len(text))\n",
    "# sliced_text = slice(6)\n",
    "sliced_text = slice(7, 17, 2)                             #runs from 7 to 16\n",
    "print(text[sliced_text])"
   ]
  },
  {
   "cell_type": "markdown",
   "id": "30ac1ad8",
   "metadata": {},
   "source": [
    "# syntax:\n",
    "\n",
    "- slice(start, stop, step)\n",
    "- obj[start:stop:step]"
   ]
  },
  {
   "cell_type": "markdown",
   "id": "61634765",
   "metadata": {},
   "source": [
    "# slicing with negative index"
   ]
  },
  {
   "cell_type": "code",
   "execution_count": 14,
   "id": "83c1334d",
   "metadata": {},
   "outputs": [
    {
     "name": "stdout",
     "output_type": "stream",
     "text": [
      "noh\n"
     ]
    }
   ],
   "source": [
    "py_string = \"python\"\n",
    "slice_obj = slice(-1, -4, -1)\n",
    "print(py_string[slice_obj])"
   ]
  },
  {
   "cell_type": "code",
   "execution_count": 15,
   "id": "d05435c7",
   "metadata": {},
   "outputs": [
    {
     "name": "stdout",
     "output_type": "stream",
     "text": [
      "nh\n"
     ]
    }
   ],
   "source": [
    "py_string = \"python\"\n",
    "slice_obj = slice(-1, -4, -2)\n",
    "print(py_string[slice_obj])"
   ]
  },
  {
   "cell_type": "code",
   "execution_count": 16,
   "id": "cbd827fa",
   "metadata": {},
   "outputs": [
    {
     "name": "stdout",
     "output_type": "stream",
     "text": [
      "pyt\n"
     ]
    }
   ],
   "source": [
    "py_string = \"python\"\n",
    "print(py_string[0:3])"
   ]
  },
  {
   "cell_type": "code",
   "execution_count": 17,
   "id": "788664c0",
   "metadata": {},
   "outputs": [
    {
     "name": "stdout",
     "output_type": "stream",
     "text": [
      "pto\n"
     ]
    }
   ],
   "source": [
    "py_string = \"python\"\n",
    "print(py_string[0:6:2])"
   ]
  },
  {
   "cell_type": "code",
   "execution_count": 19,
   "id": "d09b9b00",
   "metadata": {},
   "outputs": [
    {
     "name": "stdout",
     "output_type": "stream",
     "text": [
      "t\n"
     ]
    }
   ],
   "source": [
    "print(py_string[2:])"
   ]
  },
  {
   "cell_type": "code",
   "execution_count": 20,
   "id": "44e6cfd7",
   "metadata": {},
   "outputs": [
    {
     "name": "stdout",
     "output_type": "stream",
     "text": [
      "pyt\n"
     ]
    }
   ],
   "source": [
    "print(py_string[:3])"
   ]
  },
  {
   "cell_type": "code",
   "execution_count": 21,
   "id": "35fb0cae",
   "metadata": {},
   "outputs": [
    {
     "name": "stdout",
     "output_type": "stream",
     "text": [
      "yhn\n"
     ]
    }
   ],
   "source": [
    "print(py_string[1::2])"
   ]
  },
  {
   "cell_type": "code",
   "execution_count": 22,
   "id": "8674a611",
   "metadata": {},
   "outputs": [
    {
     "name": "stdout",
     "output_type": "stream",
     "text": [
      "[3, 4, 5]\n"
     ]
    }
   ],
   "source": [
    "li = [1,2,3,4,5,6,7,8]\n",
    "print(li[2:5])"
   ]
  },
  {
   "cell_type": "code",
   "execution_count": null,
   "id": "c34ed5b9",
   "metadata": {},
   "outputs": [],
   "source": []
  }
 ],
 "metadata": {
  "kernelspec": {
   "display_name": "Python 3 (ipykernel)",
   "language": "python",
   "name": "python3"
  },
  "language_info": {
   "codemirror_mode": {
    "name": "ipython",
    "version": 3
   },
   "file_extension": ".py",
   "mimetype": "text/x-python",
   "name": "python",
   "nbconvert_exporter": "python",
   "pygments_lexer": "ipython3",
   "version": "3.9.13"
  }
 },
 "nbformat": 4,
 "nbformat_minor": 5
}
