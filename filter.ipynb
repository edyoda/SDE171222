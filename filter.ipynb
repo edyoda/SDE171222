{
 "cells": [
  {
   "cell_type": "markdown",
   "id": "4ce2073d",
   "metadata": {},
   "source": [
    "# filter()"
   ]
  },
  {
   "cell_type": "markdown",
   "id": "63d53e1e",
   "metadata": {},
   "source": [
    "Syntax:\n",
    "\n",
    "filter(function, iterable)\n",
    "\n",
    "- function: refers to the function that u want to apply to each item in iterable\n",
    "- iterable: list, tuple, dict, sets,..."
   ]
  },
  {
   "cell_type": "markdown",
   "id": "765866f5",
   "metadata": {},
   "source": [
    "# Example 1: filter even numbers out of numbers list"
   ]
  },
  {
   "cell_type": "code",
   "execution_count": 1,
   "id": "50ae8c70",
   "metadata": {},
   "outputs": [],
   "source": [
    "num = [10, 3, 37, 73, 46, 78]"
   ]
  },
  {
   "cell_type": "code",
   "execution_count": 2,
   "id": "ca52fd03",
   "metadata": {},
   "outputs": [],
   "source": [
    "def check_even(elem):\n",
    "    if elem % 2 == 0:\n",
    "        return True\n",
    "    return False"
   ]
  },
  {
   "cell_type": "code",
   "execution_count": 4,
   "id": "68004955",
   "metadata": {},
   "outputs": [],
   "source": [
    "op_obj = filter(check_even, num)"
   ]
  },
  {
   "cell_type": "code",
   "execution_count": 5,
   "id": "08ff1eb8",
   "metadata": {},
   "outputs": [
    {
     "name": "stdout",
     "output_type": "stream",
     "text": [
      "<filter object at 0x000001569815E430>\n"
     ]
    }
   ],
   "source": [
    "print(op_obj)"
   ]
  },
  {
   "cell_type": "code",
   "execution_count": 6,
   "id": "9535956a",
   "metadata": {},
   "outputs": [],
   "source": [
    "even_numbers = list(op_obj)"
   ]
  },
  {
   "cell_type": "code",
   "execution_count": 7,
   "id": "0dd69fc1",
   "metadata": {},
   "outputs": [
    {
     "data": {
      "text/plain": [
       "[10, 46, 78]"
      ]
     },
     "execution_count": 7,
     "metadata": {},
     "output_type": "execute_result"
    }
   ],
   "source": [
    "even_numbers"
   ]
  },
  {
   "cell_type": "code",
   "execution_count": 8,
   "id": "2a7074ef",
   "metadata": {},
   "outputs": [
    {
     "name": "stdout",
     "output_type": "stream",
     "text": [
      "[10, 46, 78]\n"
     ]
    }
   ],
   "source": [
    "def check_even(elem):\n",
    "    if elem % 2 == 0:\n",
    "        return True\n",
    "    return False\n",
    "\n",
    "op_obj = filter(check_even, num)\n",
    "even_numbers = list(op_obj)\n",
    "print(even_numbers)"
   ]
  },
  {
   "cell_type": "markdown",
   "id": "2b73e32b",
   "metadata": {},
   "source": [
    "# Example 2: filter vowels from list of alphabets"
   ]
  },
  {
   "cell_type": "code",
   "execution_count": 10,
   "id": "d4173514",
   "metadata": {},
   "outputs": [
    {
     "name": "stdout",
     "output_type": "stream",
     "text": [
      "['a', 'e']\n"
     ]
    }
   ],
   "source": [
    "alphabets = ['a', 'z', 'x', 'f', 'e']\n",
    "\n",
    "def filter_vowels(alphabet):\n",
    "    vowels = ['a', 'e', 'i', 'o', 'u']\n",
    "    return True if alphabet in vowels else False\n",
    "\n",
    "obj = filter( filter_vowels, alphabets)\n",
    "filtered_vowels = list(obj)\n",
    "print(filtered_vowels)"
   ]
  },
  {
   "cell_type": "markdown",
   "id": "6dd06fe8",
   "metadata": {},
   "source": [
    "# Example 3: filter numbers which are divisible by 5"
   ]
  },
  {
   "cell_type": "code",
   "execution_count": 11,
   "id": "99078dc1",
   "metadata": {},
   "outputs": [],
   "source": [
    "numbers = [4, 5, 75, 87, 32]\n"
   ]
  },
  {
   "cell_type": "code",
   "execution_count": 12,
   "id": "c93639c0",
   "metadata": {},
   "outputs": [
    {
     "name": "stdout",
     "output_type": "stream",
     "text": [
      "[45, 20, 30]\n"
     ]
    }
   ],
   "source": [
    "num_list = [45, 20, 23, 26, 30]\n",
    "\n",
    "def divisible_by_5(elem):\n",
    "    if elem%5 == 0:\n",
    "        return True\n",
    "    return False\n",
    "obj = filter(divisible_by_5,num_list)\n",
    "divisibled_num = list(obj)\n",
    "print(divisibled_num)"
   ]
  },
  {
   "cell_type": "code",
   "execution_count": null,
   "id": "0c887a80",
   "metadata": {},
   "outputs": [],
   "source": []
  }
 ],
 "metadata": {
  "kernelspec": {
   "display_name": "Python 3 (ipykernel)",
   "language": "python",
   "name": "python3"
  },
  "language_info": {
   "codemirror_mode": {
    "name": "ipython",
    "version": 3
   },
   "file_extension": ".py",
   "mimetype": "text/x-python",
   "name": "python",
   "nbconvert_exporter": "python",
   "pygments_lexer": "ipython3",
   "version": "3.9.13"
  }
 },
 "nbformat": 4,
 "nbformat_minor": 5
}
